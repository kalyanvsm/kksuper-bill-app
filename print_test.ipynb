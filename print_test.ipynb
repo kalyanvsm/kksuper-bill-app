{
 "cells": [
  {
   "cell_type": "code",
   "execution_count": 1,
   "metadata": {},
   "outputs": [
    {
     "name": "stdout",
     "output_type": "stream",
     "text": [
      "KALYAN\n"
     ]
    }
   ],
   "source": [
    "print(\"KALYAN\")"
   ]
  },
  {
   "cell_type": "code",
   "execution_count": 7,
   "metadata": {},
   "outputs": [],
   "source": [
    "d = [{\"pro\":\"Dettol original 75g\",\"cost\":\"40\",\"q\":\"4\"},{\"pro\":\"Vim 125ml\",\"cost\":\"15\",\"q\":\"3\"},{\"pro\":\"Mangaldeep flora 14g\",\"cost\":\"10\",\"q\":\"2\"},\n",
    "    {\"pro\":\"Pepsi 250ml\",\"cost\":\"20\",\"q\":\"5\"},{\"pro\":\"Good night liq 45ml\",\"cost\":\"80\",\"q\":\"1\"}]"
   ]
  },
  {
   "cell_type": "code",
   "execution_count": 35,
   "metadata": {},
   "outputs": [],
   "source": [
    "printer.close()\n"
   ]
  },
  {
   "cell_type": "code",
   "execution_count": 33,
   "metadata": {},
   "outputs": [
    {
     "name": "stdout",
     "output_type": "stream",
     "text": [
      "The media.width.pixel field of the printer profile is not set. The center flag will have no effect.\n",
      "3\n"
     ]
    },
    {
     "name": "stdout",
     "output_type": "stream",
     "text": [
      "3\n",
      "3\n"
     ]
    }
   ],
   "source": [
    "from escpos.printer import Usb\n",
    "\n",
    "# Replace 'vendor_id' and 'product_id' with your printer's USB vendor and product IDs.\n",
    "# Use the VID and PID you obtained from the 'lsusb' command.\n",
    "vendor_id = 0x4b43\n",
    "product_id = 0x3830\n",
    "\n",
    "# Initialize the printer\n",
    "printer = Usb(vendor_id, product_id)\n",
    "\n",
    "# Print a sample text\n",
    "# text_to_print = \"A\"*15\n",
    "# printer.text(text_to_print)\n",
    "printer.image(img_source=\"d.jpg\")\n",
    "# printer.image(img_source=\"barcode.png\")\n",
    "# printer.image(img_source=\"barcode.gif\")\n",
    "printer.cut()"
   ]
  },
  {
   "cell_type": "code",
   "execution_count": 45,
   "metadata": {},
   "outputs": [
    {
     "name": "stdout",
     "output_type": "stream",
     "text": [
      "3\n",
      "3\n",
      "3\n"
     ]
    }
   ],
   "source": [
    "# len(\"PRODUCT                \")\n",
    "# # PRODUCT                QTY   MRP  DISCNT  TOTAL \n",
    "printer.text(\"PRODUCT                QTY   MRP  DISCNT  TOTAL XX\")\n",
    "# printer.text(\"V\"*10)\n",
    "printer.cut()"
   ]
  },
  {
   "cell_type": "code",
   "execution_count": 13,
   "metadata": {},
   "outputs": [
    {
     "name": "stdout",
     "output_type": "stream",
     "text": [
      "The media.width.pixel field of the printer profile is not set. The center flag will have no effect.\n",
      "3\n"
     ]
    },
    {
     "name": "stdout",
     "output_type": "stream",
     "text": [
      "3\n",
      "3\n",
      "3\n",
      "3\n",
      "3\n"
     ]
    },
    {
     "ename": "NameError",
     "evalue": "name 'd' is not defined",
     "output_type": "error",
     "traceback": [
      "\u001b[0;31m---------------------------------------------------------------------------\u001b[0m",
      "\u001b[0;31mNameError\u001b[0m                                 Traceback (most recent call last)",
      "Cell \u001b[0;32mIn[13], line 23\u001b[0m\n\u001b[1;32m     21\u001b[0m printer\u001b[38;5;241m.\u001b[39mtextln(\u001b[38;5;124m\"\u001b[39m\u001b[38;5;124mPRODUCT              QUANTITY   COST   TOTAL    \u001b[39m\u001b[38;5;124m\"\u001b[39m)\n\u001b[1;32m     22\u001b[0m printer\u001b[38;5;241m.\u001b[39mtextln(\u001b[38;5;124m\"\u001b[39m\u001b[38;5;124m*\u001b[39m\u001b[38;5;124m\"\u001b[39m\u001b[38;5;241m*\u001b[39m\u001b[38;5;241m48\u001b[39m)\n\u001b[0;32m---> 23\u001b[0m \u001b[38;5;28;01mfor\u001b[39;00m each \u001b[38;5;129;01min\u001b[39;00m \u001b[43md\u001b[49m:\n\u001b[1;32m     24\u001b[0m     p \u001b[38;5;241m=\u001b[39m each[\u001b[38;5;124m\"\u001b[39m\u001b[38;5;124mpro\u001b[39m\u001b[38;5;124m\"\u001b[39m]\u001b[38;5;241m.\u001b[39mljust(\u001b[38;5;241m21\u001b[39m,\u001b[38;5;124m\"\u001b[39m\u001b[38;5;124m \u001b[39m\u001b[38;5;124m\"\u001b[39m)\n\u001b[1;32m     25\u001b[0m     q \u001b[38;5;241m=\u001b[39m each[\u001b[38;5;124m\"\u001b[39m\u001b[38;5;124mq\u001b[39m\u001b[38;5;124m\"\u001b[39m]\u001b[38;5;241m.\u001b[39mcenter(\u001b[38;5;241m11\u001b[39m, \u001b[38;5;124m\"\u001b[39m\u001b[38;5;124m \u001b[39m\u001b[38;5;124m\"\u001b[39m)\n",
      "\u001b[0;31mNameError\u001b[0m: name 'd' is not defined"
     ]
    }
   ],
   "source": [
    "from escpos.printer import Usb\n",
    "\n",
    "# Replace 'vendor_id' and 'product_id' with your printer's USB vendor and product IDs.\n",
    "# Use the VID and PID you obtained from the 'lsusb' command.\n",
    "vendor_id = 0x4b43\n",
    "product_id = 0x3830\n",
    "\n",
    "# Initialize the printer\n",
    "printer = Usb(vendor_id, product_id)\n",
    "\n",
    "# Print a sample text\n",
    "# text_to_print = \"A\"*15\n",
    "# printer.text(text_to_print)\n",
    "printer.image(img_source=\"kk_logo_print.png\",center=True,)\n",
    "# for i in range(10):\n",
    "#     printer.text(\" \")\n",
    "\n",
    "# l = \"-\"*49\n",
    "printer.textln(\" \"*48)\n",
    "printer.textln(\"*\"*48)\n",
    "printer.textln(\"PRODUCT              QUANTITY   COST   TOTAL    \")\n",
    "printer.textln(\"*\"*48)\n",
    "for each in d:\n",
    "    p = each[\"pro\"].ljust(21,\" \")\n",
    "    q = each[\"q\"].center(11, \" \")\n",
    "    c = each[\"cost\"].ljust(7, \" \")\n",
    "    t = str(float(each[\"cost\"])*int(each[\"q\"])).ljust(9,\" \")\n",
    "    printer.textln(p+q+c+t)\n",
    "\n",
    "printer.textln(\"*\"*48)\n",
    "# Cut the paper (if supported by your printer)\n",
    "printer.cut()\n",
    "\n",
    "# Close the connection to the printer\n",
    "printer.close()\n"
   ]
  },
  {
   "cell_type": "code",
   "execution_count": 3,
   "metadata": {},
   "outputs": [
    {
     "data": {
      "text/plain": [
       "49"
      ]
     },
     "execution_count": 3,
     "metadata": {},
     "output_type": "execute_result"
    }
   ],
   "source": [
    "ord(\"1\")"
   ]
  },
  {
   "cell_type": "code",
   "execution_count": 5,
   "metadata": {},
   "outputs": [
    {
     "data": {
      "text/plain": [
       "'0'"
      ]
     },
     "execution_count": 5,
     "metadata": {},
     "output_type": "execute_result"
    }
   ],
   "source": [
    "chr(48)"
   ]
  },
  {
   "cell_type": "code",
   "execution_count": 6,
   "metadata": {},
   "outputs": [
    {
     "data": {
      "text/plain": [
       "'0x51'"
      ]
     },
     "execution_count": 6,
     "metadata": {},
     "output_type": "execute_result"
    }
   ],
   "source": [
    "hex(81)"
   ]
  },
  {
   "cell_type": "code",
   "execution_count": 7,
   "metadata": {},
   "outputs": [
    {
     "data": {
      "text/plain": [
       "'0x2'"
      ]
     },
     "execution_count": 7,
     "metadata": {},
     "output_type": "execute_result"
    }
   ],
   "source": [
    "hex(2)"
   ]
  },
  {
   "cell_type": "code",
   "execution_count": 1,
   "metadata": {},
   "outputs": [
    {
     "name": "stdout",
     "output_type": "stream",
     "text": [
      "DEVICE ID 4b43:3830 on Bus 001 Address 004 =================\n",
      " bLength                :   0x12 (18 bytes)\n",
      " bDescriptorType        :    0x1 Device\n",
      " bcdUSB                 :  0x110 USB 1.1\n",
      " bDeviceClass           :    0x0 Specified at interface\n",
      " bDeviceSubClass        :    0x0\n",
      " bDeviceProtocol        :    0x0\n",
      " bMaxPacketSize0        :   0x40 (64 bytes)\n",
      " idVendor               : 0x4b43\n",
      " idProduct              : 0x3830\n",
      " bcdDevice              :    0x0 Device 0.0\n",
      " iManufacturer          :    0x1 Caysn\n",
      " iProduct               :    0x2 Thermal Printer\n",
      " iSerialNumber          :    0x3 4B48325338FFFF100008B06B\n",
      " bNumConfigurations     :    0x1\n",
      "  CONFIGURATION 1: 100 mA ==================================\n",
      "   bLength              :    0x9 (9 bytes)\n",
      "   bDescriptorType      :    0x2 Configuration\n",
      "   wTotalLength         :   0x20 (32 bytes)\n",
      "   bNumInterfaces       :    0x1\n",
      "   bConfigurationValue  :    0x1\n",
      "   iConfiguration       :    0x0 \n",
      "   bmAttributes         :   0xa0 Bus Powered, Remote Wakeup\n",
      "   bMaxPower            :   0x32 (100 mA)\n",
      "    INTERFACE 0: Printer ===================================\n",
      "     bLength            :    0x9 (9 bytes)\n",
      "     bDescriptorType    :    0x4 Interface\n",
      "     bInterfaceNumber   :    0x0\n",
      "     bAlternateSetting  :    0x0\n",
      "     bNumEndpoints      :    0x2\n",
      "     bInterfaceClass    :    0x7 Printer\n",
      "     bInterfaceSubClass :    0x1\n",
      "     bInterfaceProtocol :    0x2\n",
      "     iInterface         :    0x0 \n",
      "      ENDPOINT 0x81: Bulk IN ===============================\n",
      "       bLength          :    0x7 (7 bytes)\n",
      "       bDescriptorType  :    0x5 Endpoint\n",
      "       bEndpointAddress :   0x81 IN\n",
      "       bmAttributes     :    0x2 Bulk\n",
      "       wMaxPacketSize   :   0x40 (64 bytes)\n",
      "       bInterval        :    0x0\n",
      "      ENDPOINT 0x3: Bulk OUT ===============================\n",
      "       bLength          :    0x7 (7 bytes)\n",
      "       bDescriptorType  :    0x5 Endpoint\n",
      "       bEndpointAddress :    0x3 OUT\n",
      "       bmAttributes     :    0x2 Bulk\n",
      "       wMaxPacketSize   :   0x40 (64 bytes)\n",
      "       bInterval        :    0x0\n",
      "129\n",
      "3\n"
     ]
    }
   ],
   "source": [
    "import usb.core\n",
    "dev = usb.core.find(idVendor=0x4b43,idProduct=0x3830)\n",
    "print(dev)\n",
    "for cfg in dev:\n",
    "    for i in cfg:\n",
    "        for e in i:\n",
    "            print(e.bEndpointAddress)"
   ]
  },
  {
   "cell_type": "code",
   "execution_count": 2,
   "metadata": {},
   "outputs": [],
   "source": [
    "from escpos.printer import Usb\n",
    "\n",
    "# Replace 'vendor_id' and 'product_id' with your printer's USB vendor and product IDs.\n",
    "# Use the VID and PID you obtained from the 'lsusb' command.\n",
    "vendor_id = 0x4b43\n",
    "product_id = 0x3830\n",
    "\n",
    "# Initialize the printer\n",
    "printer = Usb(vendor_id, product_id)"
   ]
  },
  {
   "cell_type": "code",
   "execution_count": 3,
   "metadata": {},
   "outputs": [
    {
     "name": "stdout",
     "output_type": "stream",
     "text": [
      "3\n",
      "3\n"
     ]
    }
   ],
   "source": [
    "t = \"SHARON\".center(49)\n",
    "printer.text(t)"
   ]
  },
  {
   "cell_type": "code",
   "execution_count": 64,
   "metadata": {},
   "outputs": [
    {
     "name": "stdout",
     "output_type": "stream",
     "text": [
      "3\n",
      "3\n"
     ]
    }
   ],
   "source": [
    "printer.cut()"
   ]
  },
  {
   "cell_type": "code",
   "execution_count": 87,
   "metadata": {},
   "outputs": [
    {
     "name": "stdout",
     "output_type": "stream",
     "text": [
      "3\n",
      "3\n",
      "3\n",
      "3\n",
      "3\n",
      "3\n",
      "3\n",
      "3\n",
      "3\n",
      "3\n",
      "3\n",
      "3\n",
      "3\n",
      "3\n",
      "3\n",
      "3\n",
      "3\n",
      "3\n"
     ]
    }
   ],
   "source": [
    "printer.textln((\"K\"*25).center(49))\n",
    "printer.set(\n",
    "        align='center',\n",
    "        font= 1,\n",
    "        bold= True,\n",
    "        # underline = 2,\n",
    "        # width = 8,\n",
    "        # height= 2,\n",
    "        # density = 4,\n",
    "        # invert = True,\n",
    "        # smooth = None,\n",
    "        # flip = None,\n",
    "        # normal_textsize = False,\n",
    "        double_width = True,\n",
    "        double_height = True,\n",
    "        # custom_size = True,\n",
    "    )\n",
    "printer.textln((\"K\"*30).center(30))\n",
    "printer.set_with_default()\n",
    "printer.cut()"
   ]
  },
  {
   "cell_type": "code",
   "execution_count": 55,
   "metadata": {},
   "outputs": [
    {
     "name": "stdout",
     "output_type": "stream",
     "text": [
      "3\n",
      "3\n",
      "3\n",
      "3\n",
      "3\n",
      "3\n"
     ]
    }
   ],
   "source": [
    "printer.set(\n",
    "        align='center',\n",
    "        font= 0,\n",
    "        bold= True,\n",
    "        underline = 2,\n",
    "        # width = 8,\n",
    "        # height= 8,\n",
    "        # density = 8,\n",
    "        # invert = None,\n",
    "        # smooth = None,\n",
    "        # flip = True,\n",
    "        # normal_textsize = None,\n",
    "        # double_width = True,\n",
    "        # double_height = True,\n",
    "        # custom_size = True,\n",
    "    )\n",
    "printer.textln(\"GOOD MORNING\")"
   ]
  },
  {
   "cell_type": "code",
   "execution_count": 72,
   "metadata": {},
   "outputs": [
    {
     "name": "stdout",
     "output_type": "stream",
     "text": [
      "3\n",
      "3\n"
     ]
    }
   ],
   "source": [
    "printer.cut()"
   ]
  },
  {
   "cell_type": "code",
   "execution_count": 47,
   "metadata": {},
   "outputs": [],
   "source": [
    "printer.set(align=None,font=None,bold=None,underline=None,width=None,height=None,density=None,invert=None,smooth=None,flip=None,normal_textsize=None,double_width=None,double_height=None,custom_size=None)"
   ]
  },
  {
   "cell_type": "code",
   "execution_count": 71,
   "metadata": {},
   "outputs": [
    {
     "name": "stdout",
     "output_type": "stream",
     "text": [
      "3\n"
     ]
    }
   ],
   "source": [
    "printer.textln((\"K\"*25).center(49))"
   ]
  },
  {
   "cell_type": "code",
   "execution_count": 68,
   "metadata": {},
   "outputs": [],
   "source": [
    "printer.close()"
   ]
  },
  {
   "cell_type": "code",
   "execution_count": 2,
   "metadata": {},
   "outputs": [
    {
     "name": "stdout",
     "output_type": "stream",
     "text": [
      "Current date (DD/MM/YYYY): 13/03/2024\n",
      "Current time (HH:MM): 03:42\n"
     ]
    }
   ],
   "source": [
    "import datetime\n",
    "\n",
    "# Get current date in DD/MM/YYYY format\n",
    "current_date = datetime.datetime.now().strftime(\"%d/%m/%Y\")\n",
    "\n",
    "# Get current time in HH:MM format\n",
    "current_time = datetime.datetime.now().strftime(\"%H:%M\")\n",
    "\n",
    "print(\"Current date (DD/MM/YYYY):\", current_date)\n",
    "print(\"Current time (HH:MM):\", current_time)"
   ]
  },
  {
   "cell_type": "code",
   "execution_count": 14,
   "metadata": {},
   "outputs": [
    {
     "name": "stdout",
     "output_type": "stream",
     "text": [
      "3\n",
      "The media.width.pixel field of the printer profile is not set. The center flag will have no effect.\n",
      "3\n",
      "3\n",
      "3\n",
      "3\n",
      "3\n",
      "3\n",
      "3\n",
      "3\n",
      "3\n",
      "3\n",
      "3\n",
      "3\n",
      "3\n",
      "3\n",
      "3\n",
      "3\n",
      "3\n",
      "3\n",
      "3\n",
      "3\n",
      "3\n",
      "3\n",
      "3\n",
      "3\n",
      "3\n",
      "3\n",
      "3\n",
      "3\n",
      "3\n",
      "3\n",
      "3\n",
      "3\n",
      "3\n",
      "3\n",
      "3\n",
      "3\n",
      "3\n",
      "3\n",
      "3\n",
      "3\n"
     ]
    }
   ],
   "source": [
    "from escpos.printer import Usb\n",
    "import datetime\n",
    "\n",
    "# Replace 'vendor_id' and 'product_id' with your printer's USB vendor and product IDs.\n",
    "# Use the VID and PID you obtained from the 'lsusb' command.\n",
    "vendor_id = 0x4b43\n",
    "product_id = 0x3830\n",
    "\n",
    "# Initialize the printer\n",
    "printer = Usb(vendor_id, product_id)\n",
    "\n",
    "# Get current date in DD/MM/YYYY format\n",
    "current_date = datetime.datetime.now().strftime(\"%d/%m/%Y\")\n",
    "\n",
    "# Get current time in HH:MM format\n",
    "current_time = datetime.datetime.now().strftime(\"%H:%M\")\n",
    "\n",
    "# Print a sample text\n",
    "# text_to_print = \"A\"*15\n",
    "# printer.text(text_to_print)\n",
    "printer.set(align='center')\n",
    "printer.image(img_source=\"kk_logo_bw.png\",center=True,)\n",
    "printer.set_with_default()\n",
    "# for i in range(10):\n",
    "#     printer.text(\" \")\n",
    "\n",
    "# l = \"-\"*49\n",
    "printer.textln(\" \"*48)\n",
    "gap = \" \"*21\n",
    "printer.textln(f\"Date: {current_date}{gap}Time: {current_time}\")\n",
    "printer.textln(\"*\"*48)\n",
    "printer.textln(\"PRODUCT                   QNTY    COST   TOTAL  \")\n",
    "printer.textln(\"*\"*48)\n",
    "tot = 0\n",
    "for each in d:\n",
    "    p = each[\"pro\"].ljust(26,\" \")\n",
    "    q = (\" \"+each[\"q\"]).ljust(3, \" \")\n",
    "    c = (each[\"cost\"] + \"  \").rjust(10, \" \")\n",
    "    t = (str(float(each[\"cost\"])*int(each[\"q\"]))+\" \").rjust(9,\" \")\n",
    "    tot = tot + (float(each[\"cost\"])*int(each[\"q\"]))\n",
    "    printer.textln(p+q+c+t)\n",
    "\n",
    "printer.textln(\"*\"*48)\n",
    "# Cut the paper (if supported by your printer)\n",
    "printer.set(align='center',font= 1,bold= True,double_height=True,double_width=True)\n",
    "temp = \"TOTAL : \" + str(tot)\n",
    "temp = \" \"*(30-len(temp))+ temp\n",
    "printer.textln(temp)\n",
    "printer.set_with_default()\n",
    "printer.textln(\"*\"*48)\n",
    "printer.cut()\n",
    "\n",
    "# Close the connection to the printer\n",
    "printer.close()\n"
   ]
  },
  {
   "cell_type": "code",
   "execution_count": 95,
   "metadata": {},
   "outputs": [
    {
     "data": {
      "text/plain": [
       "True"
      ]
     },
     "execution_count": 95,
     "metadata": {},
     "output_type": "execute_result"
    }
   ],
   "source": [
    "import cv2\n",
    "import numpy as np\n",
    "\n",
    "# Load the image\n",
    "image = cv2.imread('kk_logo.png')  # Replace 'your_image_path.jpg' with the actual path to your image\n",
    "\n",
    "# Convert the image to grayscale\n",
    "gray_image = cv2.cvtColor(image, cv2.COLOR_BGR2GRAY)\n",
    "mask = np.where(gray_image != 255, 0, 255).astype(np.uint8)\n",
    "# Threshold the image\n",
    "# _, binary_image = cv2.threshold(gray_image, 0, 0, cv2.THRESH_BINARY_INV)\n",
    "\n",
    "# Save the result\n",
    "cv2.imwrite('kk_logo_bw.png', mask) "
   ]
  },
  {
   "cell_type": "code",
   "execution_count": 6,
   "metadata": {},
   "outputs": [],
   "source": [
    "printer.close()"
   ]
  },
  {
   "cell_type": "code",
   "execution_count": 37,
   "metadata": {},
   "outputs": [],
   "source": [
    "with open(\"barcodes.txt\", \"r\") as f:\n",
    "    text = f.read()"
   ]
  },
  {
   "cell_type": "code",
   "execution_count": 38,
   "metadata": {},
   "outputs": [],
   "source": [
    "import re"
   ]
  },
  {
   "cell_type": "code",
   "execution_count": 39,
   "metadata": {},
   "outputs": [],
   "source": [
    "pattern = r\"\\d{2}\\/\\d{2}\\/\\d{2},\\s\\d{2}:\\d{2}\\s-\\s[a-bA-z0-9\\+\\s]*:\\s?(.+)$\"\n",
    "matches = re.findall(pattern, text, re.MULTILINE)"
   ]
  },
  {
   "cell_type": "code",
   "execution_count": 40,
   "metadata": {},
   "outputs": [
    {
     "name": "stdout",
     "output_type": "stream",
     "text": [
      "459\n",
      "406\n"
     ]
    }
   ],
   "source": [
    "strings = []\n",
    "for match in matches:\n",
    "    if match.count(\",\") > 1:\n",
    "        strings.append(match)\n",
    "\n",
    "print(len(matches))\n",
    "print(len(strings))"
   ]
  },
  {
   "cell_type": "code",
   "execution_count": 41,
   "metadata": {},
   "outputs": [
    {
     "name": "stdout",
     "output_type": "stream",
     "text": [
      "406\n",
      "406\n"
     ]
    }
   ],
   "source": [
    "two_comma = []\n",
    "more_comma = []\n",
    "for string in strings:\n",
    "    if string.count(\",\") == 2:\n",
    "        two_comma.append(string)\n",
    "    elif string.count(\",\") == 3:\n",
    "        more_comma.append(string)\n",
    "\n",
    "print(len(strings))\n",
    "print(len(two_comma) + len(more_comma))"
   ]
  },
  {
   "cell_type": "code",
   "execution_count": 42,
   "metadata": {},
   "outputs": [
    {
     "data": {
      "text/plain": [
       "49"
      ]
     },
     "execution_count": 42,
     "metadata": {},
     "output_type": "execute_result"
    }
   ],
   "source": [
    "len(more_comma)"
   ]
  },
  {
   "cell_type": "code",
   "execution_count": 43,
   "metadata": {},
   "outputs": [],
   "source": [
    "two_comma_final = []\n",
    "for c in two_comma:\n",
    "    t = dict()\n",
    "    l = c.split(\",\")\n",
    "    for each in l:\n",
    "        each = each.strip()\n",
    "        if each.isnumeric() and len(each) > 4:\n",
    "            t[\"barcode\"] = each\n",
    "        elif each.isnumeric() and len(each) <= 4:\n",
    "            t[\"cost\"] = each\n",
    "        else:\n",
    "            t[\"product_details\"] = each\n",
    "    two_comma_final.append(t)"
   ]
  },
  {
   "cell_type": "code",
   "execution_count": 44,
   "metadata": {},
   "outputs": [
    {
     "name": "stdout",
     "output_type": "stream",
     "text": [
      "{'product_details': 'CInthol cool 100g', 'cost': '142', 'barcode': '8901023004599'}\n",
      "{'product_details': 'Horlicks 200g', 'cost': '134', 'barcode': '8901030807138'}\n",
      "{'product_details': 'Lux even toned glow 100g', 'cost': '105', 'barcode': '8901030923722'}\n",
      "{'product_details': 'CInthol health soap 100g', 'cost': '36', 'barcode': '8901023025136'}\n",
      "{'product_details': 'Hamam 100g', 'cost': '39', 'barcode': '8901030907449'}\n",
      "{'product_details': 'Dettol original 75g', 'cost': '40', 'barcode': '8901396393603'}\n",
      "{'product_details': 'Vim 125ml', 'cost': '15', 'barcode': '8901030962738'}\n",
      "{'product_details': 'CInthol lime 100g', 'cost': '140', 'barcode': '8901023020353'}\n",
      "{'product_details': 'Medimix 125g', 'cost': '49', 'barcode': '8906057530861'}\n",
      "{'product_details': 'Medimix 75g', 'cost': '32', 'barcode': '8906057532582'}\n",
      "{'product_details': 'Dove 100g', 'cost': '65', 'barcode': '8901030984969'}\n",
      "{'product_details': 'Santoor baby 75g', 'cost': '58', 'barcode': '8901399003219'}\n",
      "{'product_details': 'Santoor 4+1', 'cost': '199', 'barcode': '8901399011016'}\n",
      "{'product_details': 'CInthol original 100g', 'cost': '50', 'barcode': '8901023000034'}\n",
      "{'product_details': 'Vim 250g', 'cost': '32', 'barcode': '8901030859557'}\n",
      "{'product_details': 'CInthol original 150g', 'cost': '65', 'barcode': '8901023023675'}\n",
      "{'product_details': 'Santoor 41g', 'cost': '40', 'barcode': '8901399007811'}\n",
      "{'product_details': 'Exo round 250g', 'cost': '32', 'barcode': '8902102163732'}\n",
      "{'product_details': 'Good night liquid 45ml', 'cost': '80', 'barcode': '8901023019722'}\n",
      "{'product_details': 'Good night combi pack', 'cost': '100', 'barcode': '8901023019715'}\n",
      "{'product_details': 'No.1 sandal 4+1', 'cost': '28', 'barcode': '8901023007408'}\n",
      "{'product_details': 'Santoor 4+1', 'cost': '199', 'barcode': '8901399008177'}\n",
      "{'product_details': 'All out liquid 45mo', 'cost': '80', 'barcode': '8906006430419'}\n",
      "{'product_details': 'Santoor aloe fresh3+1', 'cost': '138', 'barcode': '8901399040023'}\n",
      "{'product_details': 'Santoor 100g', 'cost': '36', 'barcode': '8901399000591'}\n",
      "{'product_details': 'Gokul Santol 70g', 'cost': '75', 'barcode': '8906014520706'}\n",
      "{'product_details': 'Gokul santol 30g', 'cost': '43', 'barcode': '8906014520300'}\n",
      "{'product_details': 'Santoor beauty 50g', 'cost': '49', 'barcode': '8901399006524'}\n",
      "{'product_details': 'Ponds sandal 50g', 'cost': '72', 'barcode': '8901030869129'}\n",
      "{'product_details': 'Ponds sanda 100g', 'cost': '135', 'barcode': '8901030869112'}\n",
      "{'product_details': 'Ponds dreamflower 50g', 'cost': '55', 'barcode': '8901030869020'}\n",
      "{'product_details': 'Ponds magic 50g', 'cost': '72', 'barcode': '8901030868979'}\n",
      "{'product_details': 'Ponds dreamflower 100g', 'cost': '110', 'barcode': '8901030869013'}\n",
      "{'product_details': 'Santoor roseglo 75g', 'cost': '45', 'barcode': '8901399350023'}\n",
      "{'product_details': 'Tulips cotton swabs', 'cost': '44', 'barcode': '8904117400734'}\n",
      "{'product_details': 'Santoor 100g', 'cost': '36', 'barcode': '8901399000591'}\n",
      "{'product_details': 'Mangaldeep 3in 1', 'cost': '10', 'barcode': '8901725011529'}\n",
      "{'barcode': '8902080104024', 'product_details': 'Pepsi 250ml', 'cost': '20'}\n",
      "{'barcode': '8901764042270', 'product_details': 'ThumsUp 750ml', 'cost': '45'}\n",
      "{'barcode': '8901396151005', 'product_details': 'Harpic 500ml', 'cost': '105'}\n",
      "{'barcode': '8901030907005', 'product_details': 'Surf excel 65g', 'cost': '10'}\n",
      "{'product_details': 'Mangaldeep 3in1', 'cost': '55', 'barcode': '8901725004965'}\n",
      "{'product_details': 'Pears pure and gentle', 'cost': '54', 'barcode': '8901030982798'}\n",
      "{'product_details': 'Black stone', 'cost': '55', 'barcode': '8902264061075'}\n",
      "{'product_details': 'Pears oil clear glow 75g', 'cost': '63', 'barcode': '8901030871030'}\n",
      "{'product_details': 'Mangaldeep sandal 95g', 'cost': '55', 'barcode': '8901725013219'}\n",
      "{'product_details': 'Mangaldeep sadhvi 100g', 'cost': '35', 'barcode': '8901725710064'}\n",
      "{'product_details': 'Ambica durbar bathi 75g', 'cost': '50', 'barcode': '8906004440052'}\n",
      "{'product_details': 'Mangaldeep sandal 14g', 'cost': '10', 'barcode': '8901725013233'}\n",
      "{'product_details': 'Mangaldeep flora 14g', 'cost': '10', 'barcode': '8901725014377'}\n",
      "{'product_details': 'Cycle brand bansuri 22g', 'cost': '12', 'barcode': '8901751015386'}\n",
      "{'product_details': 'Cycle 3in1 88g', 'cost': '55', 'barcode': '8901751021240'}\n",
      "{'product_details': 'Ambica durbar bathi 35g', 'cost': '25', 'barcode': '8906004440045'}\n",
      "{'product_details': 'Mangaldeep anushri 60g', 'cost': '20', 'barcode': '8901725012601'}\n",
      "{'product_details': 'Glucoplus c', 'cost': '50', 'barcode': '8901207044168'}\n",
      "{'product_details': 'Dark fantasy 75g', 'cost': '40', 'barcode': '8901725015275'}\n",
      "{'product_details': 'Boost 200g', 'cost': '139', 'barcode': '8901030817182'}\n",
      "{'product_details': 'Boost 500g', 'cost': '299', 'barcode': '8901030818660'}\n",
      "{'product_details': 'Ujala supreme 250ml', 'cost': '80', 'barcode': '8902102194934'}\n",
      "{'product_details': 'Ujala supreme 75ml', 'cost': '32', 'barcode': '8902102126980'}\n",
      "{'product_details': 'Mangaldeep treya', 'cost': '10', 'barcode': '8901725710835'}\n",
      "{'product_details': 'Milk bikis biscuits 150g', 'cost': '35', 'barcode': '8901063012349'}\n",
      "{'product_details': 'Bounce orange creme 64g', 'cost': '10', 'barcode': '8901725003098'}\n",
      "{'product_details': 'Sunfeast all rounder 37g', 'cost': '5', 'barcode': '8901725009144'}\n",
      "{'product_details': 'Good day cashew', 'cost': '25', 'barcode': '8901063093409'}\n",
      "{'product_details': 'Moms magic 51g', 'cost': '10', 'barcode': '8901725119416'}\n",
      "{'product_details': 'Good day cashew', 'cost': '10', 'barcode': '8901063093522'}\n",
      "{'product_details': 'Good day butter', 'cost': '10', 'barcode': '8901063092686'}\n",
      "{'product_details': 'Bourbon the original 60g', 'cost': '10', 'barcode': '8901063139374'}\n",
      "{'product_details': 'Good day butter', 'cost': '5', 'barcode': '8901063092709'}\n",
      "{'product_details': 'Britannia 50 50 sweet &salt 63g', 'cost': '10', 'barcode': '8901063016873'}\n",
      "{'product_details': 'Hide & seek', 'cost': '30', 'barcode': '8901719117183'}\n",
      "{'product_details': 'Moms magic', 'cost': '5', 'barcode': '8901725000646'}\n",
      "{'product_details': 'Mysore sandal soap 75g', 'cost': '42', 'barcode': '8901287100013'}\n",
      "{'product_details': 'Happy happy cookies', 'cost': '5', 'barcode': '8901719129988'}\n",
      "{'product_details': 'MTR gulab jamun buy 1get1 free 175g', 'cost': '145', 'barcode': '8901042969725'}\n",
      "{'product_details': 'Toastea rusk', 'cost': '10', 'barcode': '8901063325654'}\n",
      "{'product_details': 'Aashirvaad gulab jamun  buy 1 get 1 free 175g', 'cost': '145', 'barcode': '8901725112004'}\n",
      "{'product_details': 'Milk bikis', 'cost': '10', 'barcode': '8901063012622'}\n",
      "{'product_details': 'Sunfeast all rounder sweet &salt 74g', 'cost': '10', 'barcode': '8901725009151'}\n",
      "{'product_details': 'Marie gold', 'cost': '10', 'barcode': '8901063162464'}\n",
      "{'product_details': 'Britannia tiger 29g', 'cost': '3', 'barcode': '8901063163294'}\n",
      "{'product_details': 'Milk bikis', 'cost': '5', 'barcode': '8901063012691'}\n",
      "{'product_details': 'Margo 4+1 500g', 'cost': '160', 'barcode': '8902102230519'}\n",
      "{'product_details': 'Red label 25g', 'cost': '10', 'barcode': '8901030877520'}\n",
      "{'product_details': 'Bru instant 2.2g', 'cost': '2', 'barcode': '8901030951060'}\n",
      "{'product_details': 'Bru instant 3.3g', 'cost': '3', 'barcode': '8901030951077'}\n",
      "{'product_details': 'Bur instant 4.5g', 'cost': '5', 'barcode': '8901030951084'}\n",
      "{'product_details': 'Kotthas rasam powder 10g', 'cost': '5', 'barcode': '5670129015305'}\n",
      "{'product_details': '3 roses 12g', 'cost': '10', 'barcode': '8901030985584'}\n",
      "{'product_details': 'Kotthas chicken masala 9g', 'cost': '5', 'barcode': '5670129030032'}\n",
      "{'product_details': 'Kotthas garam masala 50g', 'cost': '40', 'barcode': '5670129030254'}\n",
      "{'product_details': 'Sunrice 4.5g', 'cost': '5', 'barcode': '8901058002522'}\n",
      "{'product_details': 'Kotthas mutton masala 59g', 'cost': '40', 'barcode': '5670129030292'}\n",
      "{'product_details': 'Kotthas rasam powder 100g', 'cost': '60', 'barcode': '5670129010782'}\n",
      "{'product_details': 'MTR rasam powder 100g', 'cost': '85', 'barcode': '8901042954745'}\n",
      "{'product_details': 'Aachi mutton masala 50g', 'cost': '30', 'barcode': '8906021122283'}\n",
      "{'product_details': 'Aachi garam masala 100g', 'cost': '76', 'barcode': '8906021121170'}\n",
      "{'product_details': 'Aachi chicken masala 50g', 'cost': '30', 'barcode': '8906021120463'}\n",
      "{'product_details': 'Flipkart cassia whole 25g', 'cost': '20', 'barcode': '8903192057086'}\n",
      "{'product_details': 'Aachi rasam powder 50g', 'cost': '52', 'barcode': '8906021122535'}\n",
      "{'product_details': 'Aachi garam masala 7g', 'cost': '5', 'barcode': '8906021121149'}\n",
      "{'product_details': 'Everest jeera powder 50g', 'cost': '55', 'barcode': '8901786240500'}\n",
      "{'product_details': 'Kotthas mutton masala', 'cost': '5', 'barcode': '5670129030018'}\n",
      "{'product_details': 'Mtr rasam 8g', 'cost': '6', 'barcode': '8901042970349'}\n",
      "{'product_details': 'GRB ghee 11ml', 'cost': '10', 'barcode': '8906010360016'}\n",
      "{'product_details': 'Stay free secure XL', 'cost': '48', 'barcode': '8901012165812'}\n",
      "{'product_details': 'Maggi noodle 140g', 'cost': '28', 'barcode': '8901058000276'}\n",
      "{'product_details': 'Whisper regular', 'cost': '35', 'barcode': '4987176245281'}\n",
      "{'product_details': 'Sambar powder 8g', 'cost': '05', 'barcode': '8904246930621'}\n",
      "{'product_details': 'Aachi sambar powder 50g', 'cost': '29', 'barcode': '8906021122610'}\n",
      "{'product_details': 'Maggi noodle 280g', 'cost': '56', 'barcode': '8901058000269'}\n",
      "{'product_details': 'Kotthas turmeric powder', 'cost': '5', 'barcode': '5670129015039'}\n",
      "{'product_details': 'Kotthas chilli powder', 'cost': '5', 'barcode': '5670129015220'}\n",
      "{'product_details': 'Aachi chilli powder 50g', 'cost': '32', 'barcode': '8906021120562'}\n",
      "{'product_details': 'Maggi noodle 70g', 'cost': '14', 'barcode': '8901058000290'}\n",
      "{'product_details': 'Kotthas cooking soda 100g', 'cost': '20', 'barcode': '5670129016951'}\n",
      "{'product_details': 'Yippee noodle 70g', 'cost': '14', 'barcode': '8901725018924'}\n",
      "{'product_details': 'Kotthas jeera 50g', 'cost': '75', 'barcode': '5670129010270'}\n",
      "{'product_details': 'Kotthas pepper 50g', 'cost': '75', 'barcode': '5670129016098'}\n",
      "{'product_details': 'Aashirvaad chilli pwd 50', 'cost': '25', 'barcode': '8901725125134'}\n",
      "{'product_details': 'Aashirvaad turmeric powder 100g', 'cost': '36', 'barcode': '8901725125349'}\n",
      "{'product_details': 'Priya chilli powder', 'cost': '5', 'barcode': '8904246930003'}\n",
      "{'product_details': 'Aashirvaad chilli pwd 100g', 'cost': '50', 'barcode': '8901725125141'}\n",
      "{'product_details': 'Kotthas coriander powder 50g', 'cost': '20', 'barcode': '5670129015169'}\n",
      "{'product_details': 'Aachi fish fry masala', 'cost': '10', 'barcode': '8906021121101'}\n",
      "{'product_details': 'Priya coriander pwd 100g', 'cost': '35', 'barcode': '8904246930072'}\n",
      "{'product_details': 'Aachi sambar masala', 'cost': '5', 'barcode': '8906021122597'}\n",
      "{'product_details': 'Gemini 100g', 'cost': '55', 'barcode': '8901052021482'}\n",
      "{'product_details': 'Agarwal macaroni 500g', 'cost': '60', 'barcode': '8908019154078'}\n",
      "{'product_details': 'Taj Mahal 100g', 'cost': '95', 'barcode': '8901030656026'}\n",
      "{'product_details': 'Priya ginger garlic paste 500g', 'cost': '100', 'barcode': '8904246913433'}\n",
      "{'product_details': 'Bambino macaroni 850g', 'cost': '109', 'barcode': '8904287001298'}\n",
      "{'product_details': 'Aachi pepper powder', 'cost': '10', 'barcode': '8906021122436'}\n",
      "{'product_details': 'Kotthas sambar 10g', 'cost': '5', 'barcode': '5670129030124'}\n",
      "{'product_details': 'Aachi coriander powder 59g', 'cost': '18', 'barcode': '8906021120661'}\n",
      "{'product_details': 'Kotthas appalam 100g', 'cost': '30', 'barcode': '5670129016586'}\n",
      "{'product_details': 'Gemini', 'cost': '10', 'barcode': '8901052003891'}\n",
      "{'product_details': 'Pampers 2p L', 'cost': '30', 'barcode': '4987176071347'}\n",
      "{'product_details': 'Pampers 2p M', 'cost': '25', 'barcode': '4987176071385'}\n",
      "{'product_details': 'Pampers 2p S', 'cost': '20', 'barcode': '4987176071323'}\n",
      "{'product_details': 'Ariel liquid top 1L', 'cost': '195', 'barcode': '4987176126641'}\n",
      "{'product_details': 'Ariel liquid top 500ml', 'cost': '123', 'barcode': '4987176143822'}\n",
      "{'product_details': 'Surf excel liquid top 500ml', 'cost': '120', 'barcode': '8901030965272'}\n",
      "{'product_details': 'Lizol 500ml', 'cost': '110', 'barcode': '8901396117407'}\n",
      "{'product_details': 'Lizol 500ml', 'cost': '140', 'barcode': '8901396146902'}\n",
      "{'product_details': 'Surf excel top 1L', 'cost': '190', 'barcode': '8901030962295'}\n",
      "{'product_details': 'Lizol 200ml', 'cost': '42', 'barcode': '8901396147008'}\n",
      "{'product_details': 'Lizol 200ml', 'cost': '42', 'barcode': '8901396146001'}\n",
      "{'product_details': 'Vim 250ml', 'cost': '55', 'barcode': '8901030962776'}\n",
      "{'product_details': 'Vatika hair oil 300ml', 'cost': '180', 'barcode': '8901207038495'}\n",
      "{'product_details': 'Hit 125ml', 'cost': '75', 'barcode': '8901157025255'}\n",
      "{'product_details': 'Harpic 500ml', 'cost': '105', 'barcode': '8901396165217'}\n",
      "{'product_details': 'Parachute oil 100ml', 'cost': '37', 'barcode': '89002940'}\n",
      "{'product_details': 'Colin 250ml', 'cost': '69', 'barcode': '8901396465003'}\n",
      "{'product_details': 'Parachute oil 50ml', 'cost': '20', 'barcode': '8901088213004'}\n",
      "{'product_details': 'Harpic 250ml', 'cost': '57', 'barcode': '8901396183501'}\n",
      "{'product_details': 'Harpic red 500ml', 'cost': '110', 'barcode': '8901396153108'}\n",
      "{'product_details': 'Harpic red 200ml', 'cost': '49', 'barcode': '8901396152200'}\n",
      "{'product_details': 'Parachute oil 25ml', 'cost': '10', 'barcode': '89007426'}\n",
      "{'product_details': 'Parachute oil 600ml', 'cost': '229', 'barcode': '8901088102872'}\n",
      "{'product_details': 'Revive liquid  95g', 'cost': '38', 'barcode': '8901088206303'}\n",
      "{'product_details': 'Parachute oil 250ml', 'cost': '92', 'barcode': '8901088047142'}\n",
      "{'product_details': 'Parachute aloe vera 250ml', 'cost': '130', 'barcode': '8901088080293'}\n",
      "{'product_details': 'Rin liquid 800ml', 'cost': '130', 'barcode': '8901030943034'}\n",
      "{'product_details': 'Meera oil  175ml', 'cost': '65', 'barcode': '8902979026239'}\n",
      "{'product_details': 'Krupa oil 1L', 'cost': '210', 'barcode': '8906035030246'}\n",
      "{'product_details': 'Aswini oil 180ml', 'cost': '146', 'barcode': '8908000498969'}\n",
      "{'product_details': 'Parachute ayurvedic 180ml', 'cost': '118', 'barcode': '8901088207546'}\n",
      "{'product_details': 'AASHIRVAAD 1kg', 'cost': '69', 'barcode': '8901725121747'}\n",
      "{'product_details': 'Dabur red gel 40g', 'cost': '20', 'barcode': '8901207040177'}\n",
      "{'product_details': 'Colgate maxfresh', 'cost': '20', 'barcode': '8901314798022'}\n",
      "{'product_details': 'Dabur red', 'cost': '10', 'barcode': '8901207046438'}\n",
      "{'product_details': 'Dabur red 100g', 'cost': '70', 'barcode': '8901207047190'}\n",
      "{'product_details': 'Colgate maxfresh 80g', 'cost': '68', 'barcode': '8901314695543'}\n",
      "{'product_details': 'Closeup', 'cost': '10', 'barcode': '3948030901904'}\n",
      "{'product_details': 'Colgate strong 100g', 'cost': '69', 'barcode': '8901314765352'}\n",
      "{'product_details': 'Dabur red paste37g', 'cost': '20', 'barcode': '8901207046445'}\n",
      "{'product_details': 'Dabur red 100g', 'cost': '70', 'barcode': '8901207027253'}\n",
      "{'product_details': 'Closeup 100g', 'cost': '60', 'barcode': '8901030894183'}\n",
      "{'product_details': 'Colgate salt 100g', 'cost': '73', 'barcode': '8901314009586'}\n",
      "{'product_details': 'Colgate salt', 'cost': '20', 'barcode': '8901314763686'}\n",
      "{'product_details': 'Sensodyne fresh gel', 'cost': '85', 'barcode': '8901571004089'}\n",
      "{'product_details': 'Sensodyne fresh mint', 'cost': '85', 'barcode': '8901571004102'}\n",
      "{'product_details': 'Sensodyne rapid relief 80g', 'cost': '190', 'barcode': '8901571004836'}\n",
      "{'product_details': 'Colgate maxfresh', 'cost': '20', 'barcode': '8901314798022'}\n",
      "{'product_details': 'Closeup', 'cost': '20', 'barcode': '8901030970450'}\n",
      "{'product_details': 'Vim 110g', 'cost': '10', 'barcode': '8901030976353'}\n",
      "{'product_details': 'Chicken masala 500g', 'cost': '250', 'barcode': '8904246934179'}\n",
      "{'product_details': 'Kotthas ragi flour 500g', 'cost': '55', 'barcode': '5670129030094'}\n",
      "{'product_details': 'Aashirvaad chilli powder 500g', 'cost': '250', 'barcode': '8901725125172'}\n",
      "{'product_details': 'Anushri mangaldeep', 'cost': '2', 'barcode': '8901725715113'}\n",
      "{'product_details': 'Kotthas thite thill 100g', 'cost': '60', 'barcode': '5670129016241'}\n",
      "{'product_details': 'Kotthas Kum Kum', 'cost': '5', 'barcode': '5670129015114'}\n",
      "{'product_details': 'Wipro baby soft feeding bottle 125ml', 'cost': '80', 'barcode': '8901399008030'}\n",
      "{'product_details': 'GRB Ghee 50ml', 'cost': '55', 'barcode': '8906010366872'}\n",
      "{'product_details': 'Priya Coriander powder500g', 'cost': '175', 'barcode': '785018083312'}\n",
      "{'product_details': 'Wipro baby soft feeding bottle250ml', 'cost': '90', 'barcode': '8901399008047'}\n",
      "{'product_details': 'Priya meat masala 500g', 'cost': '300', 'barcode': '8904246934186'}\n",
      "{'product_details': 'Priya chilli powder 500g', 'cost': '240', 'barcode': '8904246930119'}\n",
      "{'product_details': 'Moov20g', 'cost': '99', 'barcode': '8901396389460'}\n",
      "{'product_details': 'GRB Ghee200ml', 'cost': '180', 'barcode': '8906010360085'}\n",
      "{'product_details': 'LG inguva 100g', 'cost': '92', 'barcode': '840222000149'}\n",
      "{'product_details': 'Babu pure ghee 50ml', 'cost': '49', 'barcode': '8924455656334'}\n",
      "{'product_details': 'Kotthas ginger pickle 200g', 'cost': '55', 'barcode': '7674729017088'}\n",
      "{'product_details': 'Dettol 60ml', 'cost': '37', 'barcode': '8901396350101'}\n",
      "{'product_details': 'Kotthas avakaya pickle 200g', 'cost': '55', 'barcode': '5670129017125'}\n",
      "{'product_details': 'Saffola honey 250g', 'cost': '99', 'barcode': '8901088069076'}\n",
      "{'product_details': 'Dettol250ml', 'cost': '141', 'barcode': '8901396350309'}\n",
      "{'product_details': 'Kotthas avakaya pickle 500g', 'cost': '120', 'barcode': '5670129017132'}\n",
      "{'product_details': 'Dettol 125ml', 'cost': '73', 'barcode': '8901396350200'}\n",
      "{'product_details': 'Bambino hing5g', 'cost': '10', 'barcode': '8901242508403'}\n",
      "{'product_details': 'GRB ghee 200ml', 'cost': '180', 'barcode': '8906010366896'}\n",
      "{'product_details': 'Kothas turmeric powder 4gm', 'cost': '01', 'barcode': '5670129010744'}\n",
      "{'product_details': 'Kotthas black thill 100g', 'cost': '40', 'barcode': '5670129016210'}\n",
      "{'product_details': 'Kotthas ragi flour 100g', 'cost': '15', 'barcode': '5670129015893'}\n",
      "{'product_details': 'Kothas black thill250g', 'cost': '135', 'barcode': '5670129016227'}\n",
      "{'product_details': 'Zandu balm 8g', 'cost': '44', 'barcode': '8901248701105'}\n",
      "{'product_details': 'Godrej hair powder', 'cost': '20', 'barcode': '8901023029370'}\n",
      "{'product_details': 'ENO 5g', 'cost': '10', 'barcode': '8901571006885'}\n",
      "{'product_details': 'Dabur honey 50g', 'cost': '42', 'barcode': '8901207045370'}\n",
      "{'product_details': 'Wipro baby soft nipple', 'cost': '27', 'barcode': '8901399064517'}\n",
      "{'product_details': 'Godrej rich creme', 'cost': '15', 'barcode': '8901023028748'}\n",
      "{'product_details': 'GRB Ghee 50ml', 'cost': '55', 'barcode': '8906010360054'}\n",
      "{'product_details': 'Sabena dish wash powder 800g+100g extra', 'cost': '30', 'barcode': '8901523111407'}\n",
      "{'product_details': 'Active wheel 2in1 500g', 'cost': '38', 'barcode': '8901030641657'}\n",
      "{'product_details': 'Active wheel 2in1 1kg', 'cost': '76', 'barcode': '8901030641633'}\n",
      "{'product_details': 'Ariel 500g', 'cost': '97', 'barcode': '4987176108630'}\n",
      "{'product_details': 'Rin 500g', 'cost': '60', 'barcode': '8901030737091'}\n",
      "{'product_details': 'Tide 500g', 'cost': '74', 'barcode': '4987176068897'}\n",
      "{'product_details': 'Tide 1kg', 'cost': '158', 'barcode': '4987176115065'}\n",
      "{'product_details': 'Rin bright 1kg', 'cost': '122', 'barcode': '8901030833977'}\n",
      "{'product_details': 'Surf Excel 500g', 'cost': '110', 'barcode': '8901030814150'}\n",
      "{'product_details': 'Surf Excel 65g', 'cost': '10', 'barcode': '8901030907005'}\n",
      "{'product_details': 'Surf Excel liquid front load50ml', 'cost': '10', 'barcode': '8901030965234'}\n",
      "{'product_details': 'Surf Excel liquid top load 50ml', 'cost': '10', 'barcode': '8901030965227'}\n",
      "{'product_details': 'Ariel 45+20g', 'cost': '10', 'barcode': '4987176223029'}\n",
      "{'product_details': 'Rin 95g', 'cost': '10', 'barcode': '8901030899966'}\n",
      "{'product_details': 'Surf Excel quick wash65g', 'cost': '10', 'barcode': '8901030907005'}\n",
      "{'product_details': 'XXX matic liquid 75ml', 'cost': '10', 'barcode': '8906056351030'}\n",
      "{'product_details': 'Clear anti-drandruff', 'cost': '2', 'barcode': '8901030868542'}\n",
      "{'product_details': 'Head& shoulder', 'cost': '2', 'barcode': '4902430729291'}\n",
      "{'product_details': 'Kotthas cashew', 'cost': '10', 'barcode': '5670129016975'}\n",
      "{'product_details': 'Dove', 'cost': '2', 'barcode': '8901030899768'}\n",
      "{'product_details': 'Kotthas jeera', 'cost': '10', 'barcode': '5670129016975'}\n",
      "{'product_details': 'Head & shoulder', 'cost': '2', 'barcode': '4902430829847'}\n",
      "{'product_details': 'Dove', 'cost': '2', 'barcode': '8901030962646'}\n",
      "{'product_details': 'Dove', 'cost': '2', 'barcode': '8901030959103'}\n",
      "{'product_details': 'Meera', 'cost': '2', 'barcode': '8902979029025'}\n",
      "{'product_details': 'Kotthas raisen', 'cost': '10', 'barcode': '5670129016975'}\n",
      "{'product_details': 'Sunsilk', 'cost': '1', 'barcode': '8901030898457'}\n",
      "{'product_details': 'Meera', 'cost': '2', 'barcode': '8902979023092'}\n",
      "{'product_details': 'Head & shoulder', 'cost': '2', 'barcode': '4987176230768'}\n",
      "{'product_details': 'Kotthas mustard mix', 'cost': '10', 'barcode': '5670129016975'}\n",
      "{'product_details': '50p', 'barcode': '8902979000710'}\n",
      "{'product_details': 'EXO Bactoscrub', 'cost': '10', 'barcode': '8902102164036'}\n",
      "{'product_details': 'Kotthas menthi', 'cost': '10', 'barcode': '5670129016975'}\n",
      "{'product_details': 'Vasmol Ayurprash', 'cost': '20', 'barcode': '8901247578883'}\n",
      "{'product_details': 'Kotthas pepper', 'cost': '10', 'barcode': '5670129016975'}\n",
      "{'product_details': 'Ponds bright beauty', 'cost': '10', 'barcode': '8901030877032'}\n",
      "{'product_details': 'Kotthas cloves', 'cost': '10', 'barcode': '5670129016975'}\n",
      "{'product_details': 'Vim scrub easy', 'cost': '10', 'barcode': '8901030885556'}\n",
      "{'product_details': 'MTR biriyani masala', 'cost': '12', 'barcode': '8901042970967'}\n",
      "{'product_details': 'MTR lemon rice', 'cost': '15', 'barcode': '8901042969480'}\n",
      "{'product_details': 'Indica easy shampoo 18ml', 'cost': '30', 'barcode': '8902979027137'}\n",
      "{'product_details': 'Godrej rich creme', 'cost': '37', 'barcode': '8901023019876'}\n",
      "{'product_details': 'MTR tomato rice powder 25g', 'cost': '15', 'barcode': '8901042969503'}\n",
      "{'product_details': 'MTR puliogare powder27g', 'cost': '12', 'barcode': '8901042970493'}\n",
      "{'product_details': 'Horlicks20g', 'cost': '5', 'barcode': '8901030824128'}\n",
      "{'product_details': 'Boost17g', 'cost': '5', 'barcode': '8901030824227'}\n",
      "{'product_details': 'Everyday15g', 'cost': '10', 'barcode': '8901058003802'}\n",
      "{'product_details': 'Comfort', 'cost': '4', 'barcode': '8901030865909'}\n",
      "{'product_details': 'Laser ready razor', 'cost': '10', 'barcode': '8901106111480'}\n",
      "{'product_details': 'Fevikwik450mg', 'cost': '5', 'barcode': '8901860010005'}\n",
      "{'product_details': 'Twinz mango candy17g', 'cost': '5', 'barcode': '8906071888726'}\n",
      "{'product_details': 'Moov4g', 'cost': '15', 'barcode': '8901177105203'}\n",
      "{'product_details': 'Hit 1N', 'cost': '16', 'barcode': '8901157028003'}\n",
      "{'product_details': 'Poppy seeds 25g', 'cost': '90', 'barcode': '5670129016180'}\n",
      "{'product_details': 'Clinic plus', 'cost': '1', 'barcode': '8901030950933'}\n",
      "{'product_details': 'Dairy milk fruit &nut', 'cost': '45', 'barcode': '7622201150181'}\n",
      "{'product_details': 'Dairy milk', 'cost': '10', 'barcode': '8901233030548'}\n",
      "{'product_details': 'Dairy milk 23g', 'cost': '20', 'barcode': '7622202398698'}\n",
      "{'product_details': 'KitKat', 'cost': '10', 'barcode': '8901058005233'}\n",
      "{'product_details': 'Perk', 'cost': '5', 'barcode': '7622201758639'}\n",
      "{'product_details': 'Bingo tomato chips', 'cost': '5', 'barcode': '8901725015220'}\n",
      "{'product_details': 'Sunfeast bounce', 'cost': '5', 'barcode': '8901725015480'}\n",
      "{'product_details': 'Bingo tomato &chilli', 'cost': '05', 'barcode': '8901725015268'}\n",
      "{'product_details': 'Colgate junior', 'cost': '15', 'barcode': '8901314542045'}\n",
      "{'product_details': 'Sensitive+Ajay', 'cost': '40', 'barcode': '8908003630083'}\n",
      "{'product_details': 'Colgate super flexi', 'cost': '20', 'barcode': '8901314200044'}\n",
      "{'product_details': 'Colgate slim soft', 'cost': '170', 'barcode': '8901314517999'}\n",
      "{'product_details': 'Colgate gentle', 'cost': '60', 'barcode': '8901314544964'}\n",
      "{'product_details': 'Colgate zig zag', 'cost': '30', 'barcode': '8901314507327'}\n",
      "{'product_details': 'Fantastic', 'cost': '5', 'barcode': '8901725009533'}\n",
      "{'product_details': 'Pepsodent 6in1', 'cost': '20', 'barcode': '8901030961373'}\n",
      "{'product_details': 'Colgate extra', 'cost': '20', 'barcode': '8901390307316'}\n",
      "{'product_details': '7hills cleaning acid500ml', 'cost': '65', 'barcode': '8901725009533'}\n",
      "{'product_details': 'Ajay flexo jr', 'cost': '12', 'barcode': '8908003630106'}\n",
      "{'product_details': 'Exo safai', 'cost': '10', 'barcode': '8902102164173'}\n",
      "{'product_details': 'Lyxtar floor cleaner 1000ml', 'cost': '80', 'barcode': '9199566279126'}\n",
      "{'product_details': 'Freedom refined sunflower oil5L', 'cost': '720', 'barcode': '8906035030239'}\n",
      "{'product_details': 'Laser stainless blades', 'cost': '12', 'barcode': '8901106101016'}\n",
      "{'product_details': 'Natraj 1L', 'cost': '146', 'barcode': '8906061280110'}\n",
      "{'product_details': 'Batteries', 'cost': '17', 'barcode': '8901691021195'}\n",
      "{'product_details': 'Freedom 1L', 'cost': '139', 'barcode': '8906035030055'}\n",
      "{'product_details': 'Ruchi gold 1L', 'cost': '125', 'barcode': '8906032010012'}\n",
      "{'product_details': 'Natraj 500ml', 'cost': '74', 'barcode': '8906061280134'}\n",
      "{'product_details': 'Ghee batti30N', 'cost': '139', 'barcode': '8943078553103'}\n",
      "{'product_details': 'Freedom 15L', 'cost': '1985', 'barcode': '8906035030062'}\n",
      "{'product_details': 'Ponds powder', 'cost': '10', 'barcode': '8901030945946'}\n",
      "{'product_details': 'Deer Dall 500g', 'cost': '80', 'barcode': '8908004431122'}\n",
      "{'product_details': 'High power cockroach anti killer', 'cost': '25', 'barcode': '8906004350016'}\n",
      "{'product_details': 'Bingo masala potato chips', 'cost': '5', 'barcode': '8901725015244'}\n",
      "{'product_details': 'Bingo cream & onion', 'cost': '5', 'barcode': '8901725015213'}\n",
      "{'product_details': 'Bingo chilli potato chips', 'cost': '5', 'barcode': '8901725015251'}\n",
      "{'product_details': 'Bingo salt', 'cost': '10', 'barcode': '8901725007096'}\n",
      "{'product_details': 'Bingo chilli', 'cost': '10', 'barcode': '8901725007102'}\n",
      "{'product_details': 'VKS Trusalt 1kg', 'cost': '25', 'barcode': '8902988000091'}\n",
      "{'product_details': 'VKS iodised crystal salt1kg', 'cost': '22', 'barcode': '8908007390051'}\n",
      "{'product_details': 'Aachi black pepper', 'cost': '10', 'barcode': '8906021122436'}\n",
      "{'product_details': '8906085360331 <This message was edited>', 'cost': '90'}\n",
      "{'product_details': 'SS karpooram', 'cost': '45', 'barcode': '8906085360317'}\n",
      "{'product_details': 'SDL karpooram', 'cost': '45', 'barcode': '8803514169018'}\n",
      "{'product_details': 'Mentho plus balm', 'cost': '2', 'barcode': '8901248226127'}\n",
      "{'product_details': 'Fevi stik', 'cost': '15', 'barcode': '8901860633501'}\n",
      "{'product_details': 'Fevi gum', 'cost': '5', 'barcode': '8901860633037'}\n",
      "{'product_details': 'Fevi gum', 'cost': '5', 'barcode': '8901860633044'}\n",
      "{'product_details': 'Fevicol', 'cost': '10', 'barcode': '8901860630241'}\n",
      "{'product_details': 'Kangaro punch', 'cost': '78', 'barcode': '8901057202800'}\n",
      "{'product_details': 'Nataraj colour pencils', 'cost': '20', 'barcode': '8901324401097'}\n",
      "{'product_details': 'DOMS super dark', 'cost': '60', 'barcode': '8908004279403'}\n",
      "{'product_details': 'Apsara platinum', 'cost': '60', 'barcode': '8901324055795'}\n",
      "{'product_details': 'Tata copper water bottle 1L', 'cost': '20', 'barcode': '8903754000062'}\n",
      "{'product_details': 'ORSL', 'cost': '42', 'barcode': '8901012350010'}\n",
      "{'product_details': 'Thumps up 2.25L', 'cost': '100', 'barcode': '8901764042904'}\n",
      "{'product_details': 'Appy fizz', 'cost': '10', 'barcode': '8902579002442'}\n",
      "{'product_details': 'Thumps up1.25L', 'cost': '68', 'barcode': '8901764042805'}\n",
      "{'product_details': 'Thums up 250ml', 'cost': '20', 'barcode': '8901764042911'}\n",
      "{'product_details': 'Slice 350ml', 'cost': '20', 'barcode': '8902080404179'}\n",
      "{'product_details': 'Sprite 250ml', 'cost': '20', 'barcode': '8901764032912'}\n",
      "{'product_details': 'Bindu 250ml', 'cost': '20', 'barcode': '8908000589254'}\n",
      "{'product_details': 'Thumsup 300ml', 'cost': '40', 'barcode': '8901764041259'}\n",
      "{'product_details': 'Pista badam milk 200ml', 'cost': '30', 'barcode': '8904089927369'}\n",
      "{'product_details': 'PREDATOR ENERGY 300ml', 'cost': '60', 'barcode': '4897036693469'}\n",
      "{'product_details': 'AASHIRVAAD Vermicelli 850g', 'cost': '89', 'barcode': '8901725118846'}\n",
      "{'product_details': 'Thumsup 600ml', 'cost': '40', 'barcode': '8901764042706'}\n",
      "{'product_details': 'AASHIRVAAD Vermicelli 400g', 'cost': '59', 'barcode': '8901725118808'}\n",
      "{'product_details': 'Sprite 600ml', 'cost': '40', 'barcode': '8901764032707'}\n",
      "{'product_details': 'Bambino nutraawell vermicelli 400g', 'cost': '45', 'barcode': '8904287001045'}\n",
      "{'product_details': 'Limca250ml', 'cost': '20', 'barcode': '8901764052910'}\n",
      "{'product_details': 'Bambino nutrawell vermicelli 500g', 'cost': '50', 'barcode': '8904287000178'}\n",
      "{'product_details': 'Agarwal vermicelli 100g', 'cost': '12', 'barcode': '8908019154054'}\n",
      "{'product_details': 'Brooke bond  Red Label natural care 250g', 'cost': '155', 'barcode': '8901030876950'}\n",
      "{'product_details': 'Brooke bond Red Label natural care 100g', 'cost': '55', 'barcode': '8901030877117'}\n",
      "{'product_details': 'TvTv tea Gemini 250g', 'cost': '135', 'barcode': '8901052021383'}\n",
      "{'product_details': 'Priya ginger garlic paste 200g', 'cost': '49', 'barcode': '785018086917'}\n",
      "{'product_details': 'Colour 250ml', 'cost': '20', 'barcode': '8901764382130'}\n"
     ]
    }
   ],
   "source": [
    "for each in two_comma_final:\n",
    "    print(each)"
   ]
  },
  {
   "cell_type": "code",
   "execution_count": 47,
   "metadata": {},
   "outputs": [
    {
     "name": "stdout",
     "output_type": "stream",
     "text": [
      "357\n",
      "357\n"
     ]
    }
   ],
   "source": [
    "print(len(two_comma_final))\n",
    "print(len(two_comma))"
   ]
  },
  {
   "cell_type": "code",
   "execution_count": 50,
   "metadata": {},
   "outputs": [
    {
     "name": "stdout",
     "output_type": "stream",
     "text": [
      "File 'more_comma.txt' created successfully.\n"
     ]
    }
   ],
   "source": [
    "\n",
    "\n",
    "# Specify the file path\n",
    "file_path = \"more_comma.txt\"\n",
    "\n",
    "# Open the file in write mode\n",
    "with open(file_path, 'w') as file:\n",
    "    # Write each string to a new line in the file\n",
    "    for line in more_comma:\n",
    "        file.write(line + '\\n')\n",
    "\n",
    "print(f\"File '{file_path}' created successfully.\")\n"
   ]
  },
  {
   "cell_type": "code",
   "execution_count": 51,
   "metadata": {},
   "outputs": [
    {
     "data": {
      "text/plain": [
       "6"
      ]
     },
     "execution_count": 51,
     "metadata": {},
     "output_type": "execute_result"
    }
   ],
   "source": [
    "\"3Roses,100g,90,8901030986543\".find(\",\")"
   ]
  },
  {
   "cell_type": "code",
   "execution_count": 54,
   "metadata": {},
   "outputs": [
    {
     "data": {
      "text/plain": [
       "'3Roses 100g,90,8901030986543'"
      ]
     },
     "execution_count": 54,
     "metadata": {},
     "output_type": "execute_result"
    }
   ],
   "source": [
    "t = \"3Roses,100g,90,8901030986543\"\n",
    "t = t[:t.find(\",\")] + \" \" + t[t.find(\",\")+1:]\n",
    "t"
   ]
  },
  {
   "cell_type": "code",
   "execution_count": 59,
   "metadata": {},
   "outputs": [],
   "source": [
    "more_comma_final = []\n",
    "\n",
    "for m in more_comma:\n",
    "    i = m.find(\",\")\n",
    "    m = m[:i] + \" \" + m[i+1:]\n",
    "    more_comma_final.append(m)\n",
    "    if m.count(\",\") > 2:\n",
    "        print(\"false\")"
   ]
  },
  {
   "cell_type": "code",
   "execution_count": 61,
   "metadata": {},
   "outputs": [
    {
     "name": "stdout",
     "output_type": "stream",
     "text": [
      "49\n",
      "49\n"
     ]
    }
   ],
   "source": [
    "print(len(more_comma))\n",
    "print(len(more_comma_final))"
   ]
  },
  {
   "cell_type": "code",
   "execution_count": 60,
   "metadata": {},
   "outputs": [
    {
     "data": {
      "text/plain": [
       "['3Roses 100g,90,8901030986543',\n",
       " 'Aachi turmeric powder 50g,17,8906021123112',\n",
       " 'Priya ginger garlic paste 20g,05,8904246920004',\n",
       " 'Ginger garlic paste  20g, 05 ,8906081381163',\n",
       " 'Jersey Ghee 10ml,10,8906016410579',\n",
       " 'Kesher food colour 10g,03,8905910437279',\n",
       " 'Priya coarinder powder 15g,5,8904246930027',\n",
       " 'Priya Rasam powder 100g,45,8904246930737',\n",
       " 'Orange red food colour 10g,03,8905910107271',\n",
       " 'Gemini 50g,29,8901052021598',\n",
       " 'Lemon yellow food colour  10g, 03 ,8905910117270',\n",
       " 'Dodla ghee 12ml,10,8906024482209',\n",
       " 'Aswini Hair oil 90ml,76,8908000498976',\n",
       " 'Parachute 175ml,60,8901088050586',\n",
       " 'Vatika  150ml,97,8901207038433',\n",
       " 'Dabur amla 180ml,95,8901207038389',\n",
       " 'Comfort fabric conditioner 210ml,58,8901030930980',\n",
       " 'Blue Comfort fabric conditioner 210ml,58,8901030930966',\n",
       " 'Blue Comfort fabric conditioner 430ml,120,8901030803659',\n",
       " 'Navratna oil 90ml,85,8901248104791',\n",
       " 'Navratna oil 45ml,45,8901248104784',\n",
       " 'Fair and handsome 15g,30,8901248253161',\n",
       " 'Vim liquid 500ml,125,8901030760587',\n",
       " 'Vim liquid 500ml,125,8901030962783',\n",
       " 'Surf Excel big bar 250g,35,8901030865169',\n",
       " 'Rin big bar 250g,25,8901030739552',\n",
       " 'Chakravarthi 175g,10,8908002378139',\n",
       " 'Rin bar 145ml,10,8901030968266',\n",
       " 'XXX bar 150g,10,8906056351320',\n",
       " 'Abhi Attukulu 500g,55,5670129021146',\n",
       " 'AASHIRVAAD salt 1kg,28,8901725123123',\n",
       " 'Gajraj  1kg,65,8904289700793',\n",
       " 'Gajraj 500g,34,8904289700823',\n",
       " 'Every day 200g,127,8901058869385',\n",
       " 'Sooji 500g,42,8906020750074',\n",
       " 'Spicy beats 456g,100,8906071881741',\n",
       " 'Alpenible gold 144g,50,8901393015829',\n",
       " 'India gate  1kg,167,690225101134',\n",
       " 'Alpenible gold 144g,50,8901393015836',\n",
       " 'Alpenible juicy fills 144g,50,8901393020946',\n",
       " 'Melody  391g,100,8901719220173',\n",
       " 'Dabur red paste 50g,25,8901207042713',\n",
       " 'Fair & lovely  15g,22,8901030966040',\n",
       " 'Fair &lovely 9g,10,8901030942648',\n",
       " 'Colgate  36g,20,8901314776334',\n",
       " 'Pepsodent 42g,20,8901030970405',\n",
       " 'Vim bar 60g,5,8901030862243',\n",
       " 'RKS Henna  10g,25,8906010540029',\n",
       " 'Gopuram kumkum 40g,12,8906048283233']"
      ]
     },
     "execution_count": 60,
     "metadata": {},
     "output_type": "execute_result"
    }
   ],
   "source": [
    "more_comma_final"
   ]
  },
  {
   "cell_type": "code",
   "execution_count": 62,
   "metadata": {},
   "outputs": [],
   "source": [
    "import pandas as pd"
   ]
  },
  {
   "cell_type": "code",
   "execution_count": 75,
   "metadata": {},
   "outputs": [],
   "source": [
    "df = pd.DataFrame(two_comma_final)"
   ]
  },
  {
   "cell_type": "code",
   "execution_count": 76,
   "metadata": {},
   "outputs": [],
   "source": [
    "df.to_csv(\"two_comma_final.csv\")"
   ]
  },
  {
   "cell_type": "code",
   "execution_count": 68,
   "metadata": {},
   "outputs": [],
   "source": [
    "more_comma_final1 = []\n",
    "for c in more_comma_final:\n",
    "    t = dict()\n",
    "    l = c.split(\",\")\n",
    "    for each in l:\n",
    "        each = each.strip()\n",
    "        if each.isnumeric() and len(each) > 4:\n",
    "            t[\"barcode\"] = each\n",
    "        elif each.isnumeric() and len(each) <= 4:\n",
    "            t[\"cost\"] = each\n",
    "        else:\n",
    "            t[\"product_details\"] = each\n",
    "    more_comma_final1.append(t)"
   ]
  },
  {
   "cell_type": "code",
   "execution_count": 69,
   "metadata": {},
   "outputs": [
    {
     "name": "stdout",
     "output_type": "stream",
     "text": [
      "{'product_details': '3Roses 100g', 'cost': '90', 'barcode': '8901030986543'}\n",
      "{'product_details': 'Aachi turmeric powder 50g', 'cost': '17', 'barcode': '8906021123112'}\n",
      "{'product_details': 'Priya ginger garlic paste 20g', 'cost': '05', 'barcode': '8904246920004'}\n",
      "{'product_details': 'Ginger garlic paste  20g', 'cost': '05', 'barcode': '8906081381163'}\n",
      "{'product_details': 'Jersey Ghee 10ml', 'cost': '10', 'barcode': '8906016410579'}\n",
      "{'product_details': 'Kesher food colour 10g', 'cost': '03', 'barcode': '8905910437279'}\n",
      "{'product_details': 'Priya coarinder powder 15g', 'cost': '5', 'barcode': '8904246930027'}\n",
      "{'product_details': 'Priya Rasam powder 100g', 'cost': '45', 'barcode': '8904246930737'}\n",
      "{'product_details': 'Orange red food colour 10g', 'cost': '03', 'barcode': '8905910107271'}\n",
      "{'product_details': 'Gemini 50g', 'cost': '29', 'barcode': '8901052021598'}\n",
      "{'product_details': 'Lemon yellow food colour  10g', 'cost': '03', 'barcode': '8905910117270'}\n",
      "{'product_details': 'Dodla ghee 12ml', 'cost': '10', 'barcode': '8906024482209'}\n",
      "{'product_details': 'Aswini Hair oil 90ml', 'cost': '76', 'barcode': '8908000498976'}\n",
      "{'product_details': 'Parachute 175ml', 'cost': '60', 'barcode': '8901088050586'}\n",
      "{'product_details': 'Vatika  150ml', 'cost': '97', 'barcode': '8901207038433'}\n",
      "{'product_details': 'Dabur amla 180ml', 'cost': '95', 'barcode': '8901207038389'}\n",
      "{'product_details': 'Comfort fabric conditioner 210ml', 'cost': '58', 'barcode': '8901030930980'}\n",
      "{'product_details': 'Blue Comfort fabric conditioner 210ml', 'cost': '58', 'barcode': '8901030930966'}\n",
      "{'product_details': 'Blue Comfort fabric conditioner 430ml', 'cost': '120', 'barcode': '8901030803659'}\n",
      "{'product_details': 'Navratna oil 90ml', 'cost': '85', 'barcode': '8901248104791'}\n",
      "{'product_details': 'Navratna oil 45ml', 'cost': '45', 'barcode': '8901248104784'}\n",
      "{'product_details': 'Fair and handsome 15g', 'cost': '30', 'barcode': '8901248253161'}\n",
      "{'product_details': 'Vim liquid 500ml', 'cost': '125', 'barcode': '8901030760587'}\n",
      "{'product_details': 'Vim liquid 500ml', 'cost': '125', 'barcode': '8901030962783'}\n",
      "{'product_details': 'Surf Excel big bar 250g', 'cost': '35', 'barcode': '8901030865169'}\n",
      "{'product_details': 'Rin big bar 250g', 'cost': '25', 'barcode': '8901030739552'}\n",
      "{'product_details': 'Chakravarthi 175g', 'cost': '10', 'barcode': '8908002378139'}\n",
      "{'product_details': 'Rin bar 145ml', 'cost': '10', 'barcode': '8901030968266'}\n",
      "{'product_details': 'XXX bar 150g', 'cost': '10', 'barcode': '8906056351320'}\n",
      "{'product_details': 'Abhi Attukulu 500g', 'cost': '55', 'barcode': '5670129021146'}\n",
      "{'product_details': 'AASHIRVAAD salt 1kg', 'cost': '28', 'barcode': '8901725123123'}\n",
      "{'product_details': 'Gajraj  1kg', 'cost': '65', 'barcode': '8904289700793'}\n",
      "{'product_details': 'Gajraj 500g', 'cost': '34', 'barcode': '8904289700823'}\n",
      "{'product_details': 'Every day 200g', 'cost': '127', 'barcode': '8901058869385'}\n",
      "{'product_details': 'Sooji 500g', 'cost': '42', 'barcode': '8906020750074'}\n",
      "{'product_details': 'Spicy beats 456g', 'cost': '100', 'barcode': '8906071881741'}\n",
      "{'product_details': 'Alpenible gold 144g', 'cost': '50', 'barcode': '8901393015829'}\n",
      "{'product_details': 'India gate  1kg', 'cost': '167', 'barcode': '690225101134'}\n",
      "{'product_details': 'Alpenible gold 144g', 'cost': '50', 'barcode': '8901393015836'}\n",
      "{'product_details': 'Alpenible juicy fills 144g', 'cost': '50', 'barcode': '8901393020946'}\n",
      "{'product_details': 'Melody  391g', 'cost': '100', 'barcode': '8901719220173'}\n",
      "{'product_details': 'Dabur red paste 50g', 'cost': '25', 'barcode': '8901207042713'}\n",
      "{'product_details': 'Fair & lovely  15g', 'cost': '22', 'barcode': '8901030966040'}\n",
      "{'product_details': 'Fair &lovely 9g', 'cost': '10', 'barcode': '8901030942648'}\n",
      "{'product_details': 'Colgate  36g', 'cost': '20', 'barcode': '8901314776334'}\n",
      "{'product_details': 'Pepsodent 42g', 'cost': '20', 'barcode': '8901030970405'}\n",
      "{'product_details': 'Vim bar 60g', 'cost': '5', 'barcode': '8901030862243'}\n",
      "{'product_details': 'RKS Henna  10g', 'cost': '25', 'barcode': '8906010540029'}\n",
      "{'product_details': 'Gopuram kumkum 40g', 'cost': '12', 'barcode': '8906048283233'}\n"
     ]
    }
   ],
   "source": [
    "for each in more_comma_final1:\n",
    "    print(each)"
   ]
  },
  {
   "cell_type": "code",
   "execution_count": 72,
   "metadata": {},
   "outputs": [],
   "source": [
    "df = pd.DataFrame(more_comma_final1)"
   ]
  },
  {
   "cell_type": "code",
   "execution_count": 73,
   "metadata": {},
   "outputs": [],
   "source": [
    "df.to_csv(\"more_comma_final.csv\")"
   ]
  },
  {
   "cell_type": "code",
   "execution_count": 79,
   "metadata": {},
   "outputs": [],
   "source": [
    "df1 = pd.read_csv(\"two_comma_final.csv\")\n",
    "df2 = pd.read_csv(\"more_comma_final.csv\")\n",
    "\n",
    "df3 = pd.concat([df1,df2],ignore_index=False)"
   ]
  },
  {
   "cell_type": "code",
   "execution_count": 81,
   "metadata": {},
   "outputs": [
    {
     "data": {
      "text/html": [
       "<div>\n",
       "<style scoped>\n",
       "    .dataframe tbody tr th:only-of-type {\n",
       "        vertical-align: middle;\n",
       "    }\n",
       "\n",
       "    .dataframe tbody tr th {\n",
       "        vertical-align: top;\n",
       "    }\n",
       "\n",
       "    .dataframe thead th {\n",
       "        text-align: right;\n",
       "    }\n",
       "</style>\n",
       "<table border=\"1\" class=\"dataframe\">\n",
       "  <thead>\n",
       "    <tr style=\"text-align: right;\">\n",
       "      <th></th>\n",
       "      <th>product_details</th>\n",
       "      <th>cost</th>\n",
       "      <th>barcode</th>\n",
       "    </tr>\n",
       "  </thead>\n",
       "  <tbody>\n",
       "    <tr>\n",
       "      <th>0</th>\n",
       "      <td>CInthol cool 100g</td>\n",
       "      <td>142.0</td>\n",
       "      <td>8.901023e+12</td>\n",
       "    </tr>\n",
       "    <tr>\n",
       "      <th>1</th>\n",
       "      <td>Horlicks 200g</td>\n",
       "      <td>134.0</td>\n",
       "      <td>8.901031e+12</td>\n",
       "    </tr>\n",
       "    <tr>\n",
       "      <th>2</th>\n",
       "      <td>Lux even toned glow 100g</td>\n",
       "      <td>105.0</td>\n",
       "      <td>8.901031e+12</td>\n",
       "    </tr>\n",
       "    <tr>\n",
       "      <th>3</th>\n",
       "      <td>CInthol health soap 100g</td>\n",
       "      <td>36.0</td>\n",
       "      <td>8.901023e+12</td>\n",
       "    </tr>\n",
       "    <tr>\n",
       "      <th>4</th>\n",
       "      <td>Hamam 100g</td>\n",
       "      <td>39.0</td>\n",
       "      <td>8.901031e+12</td>\n",
       "    </tr>\n",
       "    <tr>\n",
       "      <th>...</th>\n",
       "      <td>...</td>\n",
       "      <td>...</td>\n",
       "      <td>...</td>\n",
       "    </tr>\n",
       "    <tr>\n",
       "      <th>44</th>\n",
       "      <td>Colgate  36g</td>\n",
       "      <td>20.0</td>\n",
       "      <td>8.901315e+12</td>\n",
       "    </tr>\n",
       "    <tr>\n",
       "      <th>45</th>\n",
       "      <td>Pepsodent 42g</td>\n",
       "      <td>20.0</td>\n",
       "      <td>8.901031e+12</td>\n",
       "    </tr>\n",
       "    <tr>\n",
       "      <th>46</th>\n",
       "      <td>Vim bar 60g</td>\n",
       "      <td>5.0</td>\n",
       "      <td>8.901031e+12</td>\n",
       "    </tr>\n",
       "    <tr>\n",
       "      <th>47</th>\n",
       "      <td>RKS Henna  10g</td>\n",
       "      <td>25.0</td>\n",
       "      <td>8.906011e+12</td>\n",
       "    </tr>\n",
       "    <tr>\n",
       "      <th>48</th>\n",
       "      <td>Gopuram kumkum 40g</td>\n",
       "      <td>12.0</td>\n",
       "      <td>8.906048e+12</td>\n",
       "    </tr>\n",
       "  </tbody>\n",
       "</table>\n",
       "<p>406 rows × 3 columns</p>\n",
       "</div>"
      ],
      "text/plain": [
       "             product_details   cost       barcode\n",
       "0          CInthol cool 100g  142.0  8.901023e+12\n",
       "1              Horlicks 200g  134.0  8.901031e+12\n",
       "2   Lux even toned glow 100g  105.0  8.901031e+12\n",
       "3   CInthol health soap 100g   36.0  8.901023e+12\n",
       "4                 Hamam 100g   39.0  8.901031e+12\n",
       "..                       ...    ...           ...\n",
       "44              Colgate  36g   20.0  8.901315e+12\n",
       "45             Pepsodent 42g   20.0  8.901031e+12\n",
       "46               Vim bar 60g    5.0  8.901031e+12\n",
       "47            RKS Henna  10g   25.0  8.906011e+12\n",
       "48        Gopuram kumkum 40g   12.0  8.906048e+12\n",
       "\n",
       "[406 rows x 3 columns]"
      ]
     },
     "execution_count": 81,
     "metadata": {},
     "output_type": "execute_result"
    }
   ],
   "source": [
    "df3 = df3.drop(df3.columns[0], axis=1)\n",
    "df3"
   ]
  },
  {
   "cell_type": "code",
   "execution_count": 85,
   "metadata": {},
   "outputs": [
    {
     "data": {
      "text/html": [
       "<div>\n",
       "<style scoped>\n",
       "    .dataframe tbody tr th:only-of-type {\n",
       "        vertical-align: middle;\n",
       "    }\n",
       "\n",
       "    .dataframe tbody tr th {\n",
       "        vertical-align: top;\n",
       "    }\n",
       "\n",
       "    .dataframe thead th {\n",
       "        text-align: right;\n",
       "    }\n",
       "</style>\n",
       "<table border=\"1\" class=\"dataframe\">\n",
       "  <thead>\n",
       "    <tr style=\"text-align: right;\">\n",
       "      <th></th>\n",
       "      <th>product_details</th>\n",
       "      <th>cost</th>\n",
       "      <th>barcode</th>\n",
       "    </tr>\n",
       "  </thead>\n",
       "  <tbody>\n",
       "    <tr>\n",
       "      <th>0</th>\n",
       "      <td>CInthol cool 100g</td>\n",
       "      <td>142.0</td>\n",
       "      <td>8.901023e+12</td>\n",
       "    </tr>\n",
       "    <tr>\n",
       "      <th>1</th>\n",
       "      <td>Horlicks 200g</td>\n",
       "      <td>134.0</td>\n",
       "      <td>8.901031e+12</td>\n",
       "    </tr>\n",
       "    <tr>\n",
       "      <th>2</th>\n",
       "      <td>Lux even toned glow 100g</td>\n",
       "      <td>105.0</td>\n",
       "      <td>8.901031e+12</td>\n",
       "    </tr>\n",
       "    <tr>\n",
       "      <th>3</th>\n",
       "      <td>CInthol health soap 100g</td>\n",
       "      <td>36.0</td>\n",
       "      <td>8.901023e+12</td>\n",
       "    </tr>\n",
       "    <tr>\n",
       "      <th>4</th>\n",
       "      <td>Hamam 100g</td>\n",
       "      <td>39.0</td>\n",
       "      <td>8.901031e+12</td>\n",
       "    </tr>\n",
       "    <tr>\n",
       "      <th>5</th>\n",
       "      <td>Dettol original 75g</td>\n",
       "      <td>40.0</td>\n",
       "      <td>8.901396e+12</td>\n",
       "    </tr>\n",
       "    <tr>\n",
       "      <th>6</th>\n",
       "      <td>Vim 125ml</td>\n",
       "      <td>15.0</td>\n",
       "      <td>8.901031e+12</td>\n",
       "    </tr>\n",
       "    <tr>\n",
       "      <th>7</th>\n",
       "      <td>CInthol lime 100g</td>\n",
       "      <td>140.0</td>\n",
       "      <td>8.901023e+12</td>\n",
       "    </tr>\n",
       "    <tr>\n",
       "      <th>8</th>\n",
       "      <td>Medimix 125g</td>\n",
       "      <td>49.0</td>\n",
       "      <td>8.906058e+12</td>\n",
       "    </tr>\n",
       "    <tr>\n",
       "      <th>9</th>\n",
       "      <td>Medimix 75g</td>\n",
       "      <td>32.0</td>\n",
       "      <td>8.906058e+12</td>\n",
       "    </tr>\n",
       "    <tr>\n",
       "      <th>10</th>\n",
       "      <td>Dove 100g</td>\n",
       "      <td>65.0</td>\n",
       "      <td>8.901031e+12</td>\n",
       "    </tr>\n",
       "    <tr>\n",
       "      <th>11</th>\n",
       "      <td>Santoor baby 75g</td>\n",
       "      <td>58.0</td>\n",
       "      <td>8.901399e+12</td>\n",
       "    </tr>\n",
       "    <tr>\n",
       "      <th>12</th>\n",
       "      <td>Santoor 4+1</td>\n",
       "      <td>199.0</td>\n",
       "      <td>8.901399e+12</td>\n",
       "    </tr>\n",
       "    <tr>\n",
       "      <th>13</th>\n",
       "      <td>CInthol original 100g</td>\n",
       "      <td>50.0</td>\n",
       "      <td>8.901023e+12</td>\n",
       "    </tr>\n",
       "    <tr>\n",
       "      <th>14</th>\n",
       "      <td>Vim 250g</td>\n",
       "      <td>32.0</td>\n",
       "      <td>8.901031e+12</td>\n",
       "    </tr>\n",
       "    <tr>\n",
       "      <th>15</th>\n",
       "      <td>CInthol original 150g</td>\n",
       "      <td>65.0</td>\n",
       "      <td>8.901023e+12</td>\n",
       "    </tr>\n",
       "    <tr>\n",
       "      <th>16</th>\n",
       "      <td>Santoor 41g</td>\n",
       "      <td>40.0</td>\n",
       "      <td>8.901399e+12</td>\n",
       "    </tr>\n",
       "    <tr>\n",
       "      <th>17</th>\n",
       "      <td>Exo round 250g</td>\n",
       "      <td>32.0</td>\n",
       "      <td>8.902102e+12</td>\n",
       "    </tr>\n",
       "    <tr>\n",
       "      <th>18</th>\n",
       "      <td>Good night liquid 45ml</td>\n",
       "      <td>80.0</td>\n",
       "      <td>8.901023e+12</td>\n",
       "    </tr>\n",
       "    <tr>\n",
       "      <th>19</th>\n",
       "      <td>Good night combi pack</td>\n",
       "      <td>100.0</td>\n",
       "      <td>8.901023e+12</td>\n",
       "    </tr>\n",
       "    <tr>\n",
       "      <th>20</th>\n",
       "      <td>No.1 sandal 4+1</td>\n",
       "      <td>28.0</td>\n",
       "      <td>8.901023e+12</td>\n",
       "    </tr>\n",
       "    <tr>\n",
       "      <th>21</th>\n",
       "      <td>Santoor 4+1</td>\n",
       "      <td>199.0</td>\n",
       "      <td>8.901399e+12</td>\n",
       "    </tr>\n",
       "    <tr>\n",
       "      <th>22</th>\n",
       "      <td>All out liquid 45mo</td>\n",
       "      <td>80.0</td>\n",
       "      <td>8.906006e+12</td>\n",
       "    </tr>\n",
       "    <tr>\n",
       "      <th>23</th>\n",
       "      <td>Santoor aloe fresh3+1</td>\n",
       "      <td>138.0</td>\n",
       "      <td>8.901399e+12</td>\n",
       "    </tr>\n",
       "    <tr>\n",
       "      <th>24</th>\n",
       "      <td>Santoor 100g</td>\n",
       "      <td>36.0</td>\n",
       "      <td>8.901399e+12</td>\n",
       "    </tr>\n",
       "    <tr>\n",
       "      <th>25</th>\n",
       "      <td>Gokul Santol 70g</td>\n",
       "      <td>75.0</td>\n",
       "      <td>8.906015e+12</td>\n",
       "    </tr>\n",
       "    <tr>\n",
       "      <th>26</th>\n",
       "      <td>Gokul santol 30g</td>\n",
       "      <td>43.0</td>\n",
       "      <td>8.906015e+12</td>\n",
       "    </tr>\n",
       "    <tr>\n",
       "      <th>27</th>\n",
       "      <td>Santoor beauty 50g</td>\n",
       "      <td>49.0</td>\n",
       "      <td>8.901399e+12</td>\n",
       "    </tr>\n",
       "    <tr>\n",
       "      <th>28</th>\n",
       "      <td>Ponds sandal 50g</td>\n",
       "      <td>72.0</td>\n",
       "      <td>8.901031e+12</td>\n",
       "    </tr>\n",
       "    <tr>\n",
       "      <th>29</th>\n",
       "      <td>Ponds sanda 100g</td>\n",
       "      <td>135.0</td>\n",
       "      <td>8.901031e+12</td>\n",
       "    </tr>\n",
       "    <tr>\n",
       "      <th>30</th>\n",
       "      <td>Ponds dreamflower 50g</td>\n",
       "      <td>55.0</td>\n",
       "      <td>8.901031e+12</td>\n",
       "    </tr>\n",
       "    <tr>\n",
       "      <th>31</th>\n",
       "      <td>Ponds magic 50g</td>\n",
       "      <td>72.0</td>\n",
       "      <td>8.901031e+12</td>\n",
       "    </tr>\n",
       "    <tr>\n",
       "      <th>32</th>\n",
       "      <td>Ponds dreamflower 100g</td>\n",
       "      <td>110.0</td>\n",
       "      <td>8.901031e+12</td>\n",
       "    </tr>\n",
       "    <tr>\n",
       "      <th>33</th>\n",
       "      <td>Santoor roseglo 75g</td>\n",
       "      <td>45.0</td>\n",
       "      <td>8.901399e+12</td>\n",
       "    </tr>\n",
       "    <tr>\n",
       "      <th>34</th>\n",
       "      <td>Tulips cotton swabs</td>\n",
       "      <td>44.0</td>\n",
       "      <td>8.904117e+12</td>\n",
       "    </tr>\n",
       "    <tr>\n",
       "      <th>35</th>\n",
       "      <td>Santoor 100g</td>\n",
       "      <td>36.0</td>\n",
       "      <td>8.901399e+12</td>\n",
       "    </tr>\n",
       "    <tr>\n",
       "      <th>36</th>\n",
       "      <td>Mangaldeep 3in 1</td>\n",
       "      <td>10.0</td>\n",
       "      <td>8.901725e+12</td>\n",
       "    </tr>\n",
       "    <tr>\n",
       "      <th>37</th>\n",
       "      <td>Pepsi 250ml</td>\n",
       "      <td>20.0</td>\n",
       "      <td>8.902080e+12</td>\n",
       "    </tr>\n",
       "    <tr>\n",
       "      <th>38</th>\n",
       "      <td>ThumsUp 750ml</td>\n",
       "      <td>45.0</td>\n",
       "      <td>8.901764e+12</td>\n",
       "    </tr>\n",
       "    <tr>\n",
       "      <th>39</th>\n",
       "      <td>Harpic 500ml</td>\n",
       "      <td>105.0</td>\n",
       "      <td>8.901396e+12</td>\n",
       "    </tr>\n",
       "    <tr>\n",
       "      <th>40</th>\n",
       "      <td>Surf excel 65g</td>\n",
       "      <td>10.0</td>\n",
       "      <td>8.901031e+12</td>\n",
       "    </tr>\n",
       "    <tr>\n",
       "      <th>41</th>\n",
       "      <td>Mangaldeep 3in1</td>\n",
       "      <td>55.0</td>\n",
       "      <td>8.901725e+12</td>\n",
       "    </tr>\n",
       "    <tr>\n",
       "      <th>42</th>\n",
       "      <td>Pears pure and gentle</td>\n",
       "      <td>54.0</td>\n",
       "      <td>8.901031e+12</td>\n",
       "    </tr>\n",
       "    <tr>\n",
       "      <th>43</th>\n",
       "      <td>Black stone</td>\n",
       "      <td>55.0</td>\n",
       "      <td>8.902264e+12</td>\n",
       "    </tr>\n",
       "    <tr>\n",
       "      <th>44</th>\n",
       "      <td>Pears oil clear glow 75g</td>\n",
       "      <td>63.0</td>\n",
       "      <td>8.901031e+12</td>\n",
       "    </tr>\n",
       "    <tr>\n",
       "      <th>45</th>\n",
       "      <td>Mangaldeep sandal 95g</td>\n",
       "      <td>55.0</td>\n",
       "      <td>8.901725e+12</td>\n",
       "    </tr>\n",
       "    <tr>\n",
       "      <th>46</th>\n",
       "      <td>Mangaldeep sadhvi 100g</td>\n",
       "      <td>35.0</td>\n",
       "      <td>8.901726e+12</td>\n",
       "    </tr>\n",
       "    <tr>\n",
       "      <th>47</th>\n",
       "      <td>Ambica durbar bathi 75g</td>\n",
       "      <td>50.0</td>\n",
       "      <td>8.906004e+12</td>\n",
       "    </tr>\n",
       "    <tr>\n",
       "      <th>48</th>\n",
       "      <td>Mangaldeep sandal 14g</td>\n",
       "      <td>10.0</td>\n",
       "      <td>8.901725e+12</td>\n",
       "    </tr>\n",
       "    <tr>\n",
       "      <th>49</th>\n",
       "      <td>Mangaldeep flora 14g</td>\n",
       "      <td>10.0</td>\n",
       "      <td>8.901725e+12</td>\n",
       "    </tr>\n",
       "    <tr>\n",
       "      <th>50</th>\n",
       "      <td>Cycle brand bansuri 22g</td>\n",
       "      <td>12.0</td>\n",
       "      <td>8.901751e+12</td>\n",
       "    </tr>\n",
       "    <tr>\n",
       "      <th>51</th>\n",
       "      <td>Cycle 3in1 88g</td>\n",
       "      <td>55.0</td>\n",
       "      <td>8.901751e+12</td>\n",
       "    </tr>\n",
       "    <tr>\n",
       "      <th>52</th>\n",
       "      <td>Ambica durbar bathi 35g</td>\n",
       "      <td>25.0</td>\n",
       "      <td>8.906004e+12</td>\n",
       "    </tr>\n",
       "    <tr>\n",
       "      <th>53</th>\n",
       "      <td>Mangaldeep anushri 60g</td>\n",
       "      <td>20.0</td>\n",
       "      <td>8.901725e+12</td>\n",
       "    </tr>\n",
       "    <tr>\n",
       "      <th>54</th>\n",
       "      <td>Glucoplus c</td>\n",
       "      <td>50.0</td>\n",
       "      <td>8.901207e+12</td>\n",
       "    </tr>\n",
       "    <tr>\n",
       "      <th>55</th>\n",
       "      <td>Dark fantasy 75g</td>\n",
       "      <td>40.0</td>\n",
       "      <td>8.901725e+12</td>\n",
       "    </tr>\n",
       "    <tr>\n",
       "      <th>56</th>\n",
       "      <td>Boost 200g</td>\n",
       "      <td>139.0</td>\n",
       "      <td>8.901031e+12</td>\n",
       "    </tr>\n",
       "    <tr>\n",
       "      <th>57</th>\n",
       "      <td>Boost 500g</td>\n",
       "      <td>299.0</td>\n",
       "      <td>8.901031e+12</td>\n",
       "    </tr>\n",
       "    <tr>\n",
       "      <th>58</th>\n",
       "      <td>Ujala supreme 250ml</td>\n",
       "      <td>80.0</td>\n",
       "      <td>8.902102e+12</td>\n",
       "    </tr>\n",
       "    <tr>\n",
       "      <th>59</th>\n",
       "      <td>Ujala supreme 75ml</td>\n",
       "      <td>32.0</td>\n",
       "      <td>8.902102e+12</td>\n",
       "    </tr>\n",
       "  </tbody>\n",
       "</table>\n",
       "</div>"
      ],
      "text/plain": [
       "             product_details   cost       barcode\n",
       "0          CInthol cool 100g  142.0  8.901023e+12\n",
       "1              Horlicks 200g  134.0  8.901031e+12\n",
       "2   Lux even toned glow 100g  105.0  8.901031e+12\n",
       "3   CInthol health soap 100g   36.0  8.901023e+12\n",
       "4                 Hamam 100g   39.0  8.901031e+12\n",
       "5        Dettol original 75g   40.0  8.901396e+12\n",
       "6                  Vim 125ml   15.0  8.901031e+12\n",
       "7          CInthol lime 100g  140.0  8.901023e+12\n",
       "8               Medimix 125g   49.0  8.906058e+12\n",
       "9                Medimix 75g   32.0  8.906058e+12\n",
       "10                 Dove 100g   65.0  8.901031e+12\n",
       "11          Santoor baby 75g   58.0  8.901399e+12\n",
       "12               Santoor 4+1  199.0  8.901399e+12\n",
       "13     CInthol original 100g   50.0  8.901023e+12\n",
       "14                  Vim 250g   32.0  8.901031e+12\n",
       "15     CInthol original 150g   65.0  8.901023e+12\n",
       "16               Santoor 41g   40.0  8.901399e+12\n",
       "17            Exo round 250g   32.0  8.902102e+12\n",
       "18    Good night liquid 45ml   80.0  8.901023e+12\n",
       "19     Good night combi pack  100.0  8.901023e+12\n",
       "20           No.1 sandal 4+1   28.0  8.901023e+12\n",
       "21               Santoor 4+1  199.0  8.901399e+12\n",
       "22       All out liquid 45mo   80.0  8.906006e+12\n",
       "23     Santoor aloe fresh3+1  138.0  8.901399e+12\n",
       "24              Santoor 100g   36.0  8.901399e+12\n",
       "25          Gokul Santol 70g   75.0  8.906015e+12\n",
       "26          Gokul santol 30g   43.0  8.906015e+12\n",
       "27        Santoor beauty 50g   49.0  8.901399e+12\n",
       "28          Ponds sandal 50g   72.0  8.901031e+12\n",
       "29          Ponds sanda 100g  135.0  8.901031e+12\n",
       "30     Ponds dreamflower 50g   55.0  8.901031e+12\n",
       "31           Ponds magic 50g   72.0  8.901031e+12\n",
       "32    Ponds dreamflower 100g  110.0  8.901031e+12\n",
       "33       Santoor roseglo 75g   45.0  8.901399e+12\n",
       "34       Tulips cotton swabs   44.0  8.904117e+12\n",
       "35              Santoor 100g   36.0  8.901399e+12\n",
       "36          Mangaldeep 3in 1   10.0  8.901725e+12\n",
       "37               Pepsi 250ml   20.0  8.902080e+12\n",
       "38             ThumsUp 750ml   45.0  8.901764e+12\n",
       "39              Harpic 500ml  105.0  8.901396e+12\n",
       "40            Surf excel 65g   10.0  8.901031e+12\n",
       "41           Mangaldeep 3in1   55.0  8.901725e+12\n",
       "42     Pears pure and gentle   54.0  8.901031e+12\n",
       "43               Black stone   55.0  8.902264e+12\n",
       "44  Pears oil clear glow 75g   63.0  8.901031e+12\n",
       "45     Mangaldeep sandal 95g   55.0  8.901725e+12\n",
       "46    Mangaldeep sadhvi 100g   35.0  8.901726e+12\n",
       "47   Ambica durbar bathi 75g   50.0  8.906004e+12\n",
       "48     Mangaldeep sandal 14g   10.0  8.901725e+12\n",
       "49      Mangaldeep flora 14g   10.0  8.901725e+12\n",
       "50   Cycle brand bansuri 22g   12.0  8.901751e+12\n",
       "51            Cycle 3in1 88g   55.0  8.901751e+12\n",
       "52   Ambica durbar bathi 35g   25.0  8.906004e+12\n",
       "53    Mangaldeep anushri 60g   20.0  8.901725e+12\n",
       "54               Glucoplus c   50.0  8.901207e+12\n",
       "55          Dark fantasy 75g   40.0  8.901725e+12\n",
       "56                Boost 200g  139.0  8.901031e+12\n",
       "57                Boost 500g  299.0  8.901031e+12\n",
       "58       Ujala supreme 250ml   80.0  8.902102e+12\n",
       "59        Ujala supreme 75ml   32.0  8.902102e+12"
      ]
     },
     "execution_count": 85,
     "metadata": {},
     "output_type": "execute_result"
    }
   ],
   "source": [
    "df3 = df3.reset_index(drop=True)\n",
    "df3.head(60)"
   ]
  },
  {
   "cell_type": "code",
   "execution_count": 86,
   "metadata": {},
   "outputs": [],
   "source": [
    "df3.to_csv(\"9MarBarcodes.csv\")"
   ]
  },
  {
   "cell_type": "code",
   "execution_count": 101,
   "metadata": {},
   "outputs": [
    {
     "data": {
      "text/plain": [
       "numpy.int64"
      ]
     },
     "execution_count": 101,
     "metadata": {},
     "output_type": "execute_result"
    }
   ],
   "source": [
    "type(df3.iloc[0].iloc[1])"
   ]
  },
  {
   "cell_type": "code",
   "execution_count": 102,
   "metadata": {},
   "outputs": [
    {
     "data": {
      "text/plain": [
       "142"
      ]
     },
     "execution_count": 102,
     "metadata": {},
     "output_type": "execute_result"
    }
   ],
   "source": [
    "df3.iloc[0].iloc[1]"
   ]
  },
  {
   "cell_type": "code",
   "execution_count": 100,
   "metadata": {},
   "outputs": [],
   "source": [
    "df3['cost'] = df3['cost'].astype('Int64')"
   ]
  },
  {
   "cell_type": "code",
   "execution_count": 104,
   "metadata": {},
   "outputs": [],
   "source": [
    "df3['cost'] = df3['cost'].astype(str)"
   ]
  },
  {
   "cell_type": "code",
   "execution_count": 105,
   "metadata": {},
   "outputs": [
    {
     "data": {
      "text/plain": [
       "str"
      ]
     },
     "execution_count": 105,
     "metadata": {},
     "output_type": "execute_result"
    }
   ],
   "source": [
    "type(df3.iloc[0].iloc[1])"
   ]
  },
  {
   "cell_type": "code",
   "execution_count": 106,
   "metadata": {},
   "outputs": [
    {
     "data": {
      "text/plain": [
       "'142'"
      ]
     },
     "execution_count": 106,
     "metadata": {},
     "output_type": "execute_result"
    }
   ],
   "source": [
    "df3.iloc[0].iloc[1]"
   ]
  },
  {
   "cell_type": "code",
   "execution_count": 107,
   "metadata": {},
   "outputs": [],
   "source": [
    "df3.to_csv(\"9MarBarcodes.csv\")"
   ]
  },
  {
   "cell_type": "code",
   "execution_count": 108,
   "metadata": {},
   "outputs": [],
   "source": [
    "df9 = pd.read_csv(\"9MarBarcodes.csv\")"
   ]
  },
  {
   "cell_type": "code",
   "execution_count": 111,
   "metadata": {},
   "outputs": [
    {
     "data": {
      "text/plain": [
       "numpy.float64"
      ]
     },
     "execution_count": 111,
     "metadata": {},
     "output_type": "execute_result"
    }
   ],
   "source": [
    "type(df9.iloc[0].iloc[2])"
   ]
  },
  {
   "cell_type": "code",
   "execution_count": 1,
   "metadata": {},
   "outputs": [
    {
     "name": "stdout",
     "output_type": "stream",
     "text": [
      "Key pressed: 8\n",
      "Key released: '8'\n",
      "Key pressed: 9\n",
      "Key released: '9'\n",
      "Key pressed: 0\n",
      "Key released: '0'\n",
      "Key pressed: 1\n",
      "Key released: '1'\n",
      "Key pressed: 0\n",
      "Key released: '0'\n",
      "Key pressed: 8\n",
      "Key released: '8'\n",
      "Key pressed: 8\n",
      "Key released: '8'\n",
      "Key pressed: 2\n",
      "Key released: '2'\n",
      "Key pressed: 1\n",
      "Key released: '1'\n",
      "Key pressed: 3\n",
      "Key released: '3'\n",
      "Key pressed: 0\n",
      "Key released: '0'\n",
      "Key pressed: 0\n",
      "Key released: '0'\n",
      "Key pressed: 4\n",
      "Key released: '4'\n",
      "Special key pressed: Key.enter\n",
      "Key released: Key.enter\n",
      "Key pressed: 8\n",
      "Key released: '8'\n",
      "Key pressed: 9\n",
      "Key released: '9'\n",
      "Key pressed: 0\n",
      "Key released: '0'\n",
      "Key pressed: 1\n",
      "Key released: '1'\n",
      "Key pressed: 0\n",
      "Key released: '0'\n",
      "Key pressed: 8\n",
      "Key released: '8'\n",
      "Key pressed: 8\n",
      "Key released: '8'\n",
      "Key pressed: 2\n",
      "Key released: '2'\n",
      "Key pressed: 1\n",
      "Key released: '1'\n",
      "Key pressed: 3\n",
      "Key released: '3'\n",
      "Key pressed: 0\n",
      "Key released: '0'\n",
      "Key pressed: 0\n",
      "Key released: '0'\n",
      "Key pressed: 4\n",
      "Key released: '4'\n",
      "Special key pressed: Key.enter\n",
      "Key released: Key.enter\n",
      "Key pressed: h\n",
      "Key released: 'h'\n"
     ]
    },
    {
     "ename": "KeyboardInterrupt",
     "evalue": "",
     "output_type": "error",
     "traceback": [
      "\u001b[0;31m---------------------------------------------------------------------------\u001b[0m",
      "\u001b[0;31mKeyboardInterrupt\u001b[0m                         Traceback (most recent call last)",
      "Cell \u001b[0;32mIn[1], line 14\u001b[0m\n\u001b[1;32m     12\u001b[0m \u001b[38;5;66;03m# Set up listener\u001b[39;00m\n\u001b[1;32m     13\u001b[0m \u001b[38;5;28;01mwith\u001b[39;00m keyboard\u001b[38;5;241m.\u001b[39mListener(on_press\u001b[38;5;241m=\u001b[39mon_key_press, on_release\u001b[38;5;241m=\u001b[39mon_key_release) \u001b[38;5;28;01mas\u001b[39;00m listener:\n\u001b[0;32m---> 14\u001b[0m     \u001b[43mlistener\u001b[49m\u001b[38;5;241;43m.\u001b[39;49m\u001b[43mjoin\u001b[49m\u001b[43m(\u001b[49m\u001b[43m)\u001b[49m\n",
      "File \u001b[0;32m~/shop/.venv/lib/python3.12/site-packages/pynput/_util/__init__.py:269\u001b[0m, in \u001b[0;36mAbstractListener.join\u001b[0;34m(self, *args)\u001b[0m\n\u001b[1;32m    268\u001b[0m \u001b[38;5;28;01mdef\u001b[39;00m \u001b[38;5;21mjoin\u001b[39m(\u001b[38;5;28mself\u001b[39m, \u001b[38;5;241m*\u001b[39margs):\n\u001b[0;32m--> 269\u001b[0m     \u001b[38;5;28;43msuper\u001b[39;49m\u001b[43m(\u001b[49m\u001b[43mAbstractListener\u001b[49m\u001b[43m,\u001b[49m\u001b[43m \u001b[49m\u001b[38;5;28;43mself\u001b[39;49m\u001b[43m)\u001b[49m\u001b[38;5;241;43m.\u001b[39;49m\u001b[43mjoin\u001b[49m\u001b[43m(\u001b[49m\u001b[38;5;241;43m*\u001b[39;49m\u001b[43margs\u001b[49m\u001b[43m)\u001b[49m\n\u001b[1;32m    271\u001b[0m     \u001b[38;5;66;03m# Reraise any exceptions\u001b[39;00m\n\u001b[1;32m    272\u001b[0m     \u001b[38;5;28;01mtry\u001b[39;00m:\n",
      "File \u001b[0;32m/usr/lib/python3.12/threading.py:1126\u001b[0m, in \u001b[0;36mThread.join\u001b[0;34m(self, timeout)\u001b[0m\n\u001b[1;32m   1123\u001b[0m     \u001b[38;5;28;01mraise\u001b[39;00m \u001b[38;5;167;01mRuntimeError\u001b[39;00m(\u001b[38;5;124m\"\u001b[39m\u001b[38;5;124mcannot join current thread\u001b[39m\u001b[38;5;124m\"\u001b[39m)\n\u001b[1;32m   1125\u001b[0m \u001b[38;5;28;01mif\u001b[39;00m timeout \u001b[38;5;129;01mis\u001b[39;00m \u001b[38;5;28;01mNone\u001b[39;00m:\n\u001b[0;32m-> 1126\u001b[0m     \u001b[38;5;28;43mself\u001b[39;49m\u001b[38;5;241;43m.\u001b[39;49m\u001b[43m_wait_for_tstate_lock\u001b[49m\u001b[43m(\u001b[49m\u001b[43m)\u001b[49m\n\u001b[1;32m   1127\u001b[0m \u001b[38;5;28;01melse\u001b[39;00m:\n\u001b[1;32m   1128\u001b[0m     \u001b[38;5;66;03m# the behavior of a negative timeout isn't documented, but\u001b[39;00m\n\u001b[1;32m   1129\u001b[0m     \u001b[38;5;66;03m# historically .join(timeout=x) for x<0 has acted as if timeout=0\u001b[39;00m\n\u001b[1;32m   1130\u001b[0m     \u001b[38;5;28mself\u001b[39m\u001b[38;5;241m.\u001b[39m_wait_for_tstate_lock(timeout\u001b[38;5;241m=\u001b[39m\u001b[38;5;28mmax\u001b[39m(timeout, \u001b[38;5;241m0\u001b[39m))\n",
      "File \u001b[0;32m/usr/lib/python3.12/threading.py:1146\u001b[0m, in \u001b[0;36mThread._wait_for_tstate_lock\u001b[0;34m(self, block, timeout)\u001b[0m\n\u001b[1;32m   1143\u001b[0m     \u001b[38;5;28;01mreturn\u001b[39;00m\n\u001b[1;32m   1145\u001b[0m \u001b[38;5;28;01mtry\u001b[39;00m:\n\u001b[0;32m-> 1146\u001b[0m     \u001b[38;5;28;01mif\u001b[39;00m \u001b[43mlock\u001b[49m\u001b[38;5;241;43m.\u001b[39;49m\u001b[43macquire\u001b[49m\u001b[43m(\u001b[49m\u001b[43mblock\u001b[49m\u001b[43m,\u001b[49m\u001b[43m \u001b[49m\u001b[43mtimeout\u001b[49m\u001b[43m)\u001b[49m:\n\u001b[1;32m   1147\u001b[0m         lock\u001b[38;5;241m.\u001b[39mrelease()\n\u001b[1;32m   1148\u001b[0m         \u001b[38;5;28mself\u001b[39m\u001b[38;5;241m.\u001b[39m_stop()\n",
      "\u001b[0;31mKeyboardInterrupt\u001b[0m: "
     ]
    }
   ],
   "source": [
    "from pynput import keyboard\n",
    "\n",
    "def on_key_press(key):\n",
    "    try:\n",
    "        print(f'Key pressed: {key.char}')\n",
    "    except AttributeError:\n",
    "        print(f'Special key pressed: {key}')\n",
    "\n",
    "def on_key_release(key):\n",
    "    print(f'Key released: {key}')\n",
    "\n",
    "# Set up listener\n",
    "with keyboard.Listener(on_press=on_key_press, on_release=on_key_release) as listener:\n",
    "    listener.join()"
   ]
  },
  {
   "cell_type": "code",
   "execution_count": 1,
   "metadata": {},
   "outputs": [
    {
     "name": "stdout",
     "output_type": "stream",
     "text": [
      "Current date (DD/MM/YYYY): 13/03/2024\n",
      "Current time (HH:MM): 03:41\n"
     ]
    }
   ],
   "source": [
    "import datetime\n",
    "\n",
    "# Get current date in DD/MM/YYYY format\n",
    "current_date = datetime.datetime.now().strftime(\"%d/%m/%Y\")\n",
    "\n",
    "# Get current time in HH:MM format\n",
    "current_time = datetime.datetime.now().strftime(\"%H:%M\")\n",
    "\n",
    "print(\"Current date (DD/MM/YYYY):\", current_date)\n",
    "print(\"Current time (HH:MM):\", current_time)"
   ]
  },
  {
   "cell_type": "code",
   "execution_count": null,
   "metadata": {},
   "outputs": [],
   "source": []
  }
 ],
 "metadata": {
  "kernelspec": {
   "display_name": "Python 3",
   "language": "python",
   "name": "python3"
  },
  "language_info": {
   "codemirror_mode": {
    "name": "ipython",
    "version": 3
   },
   "file_extension": ".py",
   "mimetype": "text/x-python",
   "name": "python",
   "nbconvert_exporter": "python",
   "pygments_lexer": "ipython3",
   "version": "3.12.0"
  }
 },
 "nbformat": 4,
 "nbformat_minor": 2
}
